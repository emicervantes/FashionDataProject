{
 "cells": [
  {
   "cell_type": "code",
   "execution_count": 299,
   "id": "66f72db9",
   "metadata": {},
   "outputs": [],
   "source": [
    "import pandas as pd\n",
    "import numpy as np\n",
    "import matplotlib.pyplot as plt\n",
    "import altair as alt\n",
    "from sklearn.decomposition import TruncatedSVD\n",
    "from sklearn.linear_model import LinearRegression\n",
    "from sklearn.preprocessing import StandardScaler\n",
    "from sklearn.neighbors import KNeighborsRegressor\n",
    "from sklearn.model_selection import train_test_split\n",
    "from sklearn.metrics import mean_squared_error, mean_absolute_error"
   ]
  },
  {
   "cell_type": "markdown",
   "id": "374c1f19",
   "metadata": {},
   "source": [
    "### Load Data"
   ]
  },
  {
   "cell_type": "code",
   "execution_count": 300,
   "id": "03589f15",
   "metadata": {},
   "outputs": [
    {
     "data": {
      "text/html": [
       "<div>\n",
       "<style scoped>\n",
       "    .dataframe tbody tr th:only-of-type {\n",
       "        vertical-align: middle;\n",
       "    }\n",
       "\n",
       "    .dataframe tbody tr th {\n",
       "        vertical-align: top;\n",
       "    }\n",
       "\n",
       "    .dataframe thead th {\n",
       "        text-align: right;\n",
       "    }\n",
       "</style>\n",
       "<table border=\"1\" class=\"dataframe\">\n",
       "  <thead>\n",
       "    <tr style=\"text-align: right;\">\n",
       "      <th></th>\n",
       "      <th>Unnamed: 0.1</th>\n",
       "      <th>Unnamed: 0</th>\n",
       "      <th>item_id</th>\n",
       "      <th>category</th>\n",
       "      <th>waist</th>\n",
       "      <th>size</th>\n",
       "      <th>quality</th>\n",
       "      <th>cup size</th>\n",
       "      <th>hips</th>\n",
       "      <th>bra size</th>\n",
       "      <th>height_inches</th>\n",
       "      <th>length</th>\n",
       "      <th>fit</th>\n",
       "      <th>review_summary</th>\n",
       "      <th>review_text</th>\n",
       "      <th>polarity</th>\n",
       "      <th>reviewLen</th>\n",
       "      <th>wordCount</th>\n",
       "    </tr>\n",
       "  </thead>\n",
       "  <tbody>\n",
       "    <tr>\n",
       "      <th>0</th>\n",
       "      <td>0</td>\n",
       "      <td>8490</td>\n",
       "      <td>159891</td>\n",
       "      <td>1</td>\n",
       "      <td>26.0</td>\n",
       "      <td>1</td>\n",
       "      <td>5.0</td>\n",
       "      <td>2.0</td>\n",
       "      <td>38.0</td>\n",
       "      <td>32.0</td>\n",
       "      <td>64.0</td>\n",
       "      <td>5.0</td>\n",
       "      <td>3</td>\n",
       "      <td>This dress. Is so amazing</td>\n",
       "      <td>This dress. Is so amazing. It just arrived tod...</td>\n",
       "      <td>0.392500</td>\n",
       "      <td>301</td>\n",
       "      <td>58</td>\n",
       "    </tr>\n",
       "    <tr>\n",
       "      <th>1</th>\n",
       "      <td>1</td>\n",
       "      <td>8493</td>\n",
       "      <td>159891</td>\n",
       "      <td>1</td>\n",
       "      <td>31.0</td>\n",
       "      <td>8</td>\n",
       "      <td>3.0</td>\n",
       "      <td>5.0</td>\n",
       "      <td>41.0</td>\n",
       "      <td>36.0</td>\n",
       "      <td>62.0</td>\n",
       "      <td>5.0</td>\n",
       "      <td>3</td>\n",
       "      <td>This dress looks great on</td>\n",
       "      <td>This dress looks great on. I'm a pretty curren...</td>\n",
       "      <td>0.186250</td>\n",
       "      <td>273</td>\n",
       "      <td>57</td>\n",
       "    </tr>\n",
       "    <tr>\n",
       "      <th>2</th>\n",
       "      <td>2</td>\n",
       "      <td>8521</td>\n",
       "      <td>160625</td>\n",
       "      <td>1</td>\n",
       "      <td>32.0</td>\n",
       "      <td>5</td>\n",
       "      <td>5.0</td>\n",
       "      <td>2.0</td>\n",
       "      <td>NaN</td>\n",
       "      <td>32.0</td>\n",
       "      <td>65.0</td>\n",
       "      <td>5.0</td>\n",
       "      <td>1</td>\n",
       "      <td>Used as my wedding dress</td>\n",
       "      <td>Used as my wedding dress and I LOVED it!PROS  ...</td>\n",
       "      <td>0.172436</td>\n",
       "      <td>452</td>\n",
       "      <td>85</td>\n",
       "    </tr>\n",
       "    <tr>\n",
       "      <th>3</th>\n",
       "      <td>3</td>\n",
       "      <td>8523</td>\n",
       "      <td>160625</td>\n",
       "      <td>1</td>\n",
       "      <td>32.0</td>\n",
       "      <td>11</td>\n",
       "      <td>4.0</td>\n",
       "      <td>5.0</td>\n",
       "      <td>43.0</td>\n",
       "      <td>38.0</td>\n",
       "      <td>67.0</td>\n",
       "      <td>5.0</td>\n",
       "      <td>2</td>\n",
       "      <td>I love this dress, it's b</td>\n",
       "      <td>I love this dress, it's beautiful ! Wore this ...</td>\n",
       "      <td>0.413839</td>\n",
       "      <td>581</td>\n",
       "      <td>125</td>\n",
       "    </tr>\n",
       "    <tr>\n",
       "      <th>4</th>\n",
       "      <td>4</td>\n",
       "      <td>8524</td>\n",
       "      <td>160625</td>\n",
       "      <td>1</td>\n",
       "      <td>28.0</td>\n",
       "      <td>7</td>\n",
       "      <td>5.0</td>\n",
       "      <td>3.0</td>\n",
       "      <td>32.0</td>\n",
       "      <td>34.0</td>\n",
       "      <td>65.0</td>\n",
       "      <td>5.0</td>\n",
       "      <td>3</td>\n",
       "      <td>I love this dress!!! I bo</td>\n",
       "      <td>I love this dress!!! I bought it specifically ...</td>\n",
       "      <td>0.400769</td>\n",
       "      <td>627</td>\n",
       "      <td>117</td>\n",
       "    </tr>\n",
       "  </tbody>\n",
       "</table>\n",
       "</div>"
      ],
      "text/plain": [
       "   Unnamed: 0.1  Unnamed: 0  item_id  category  waist  size  quality  \\\n",
       "0             0        8490   159891         1   26.0     1      5.0   \n",
       "1             1        8493   159891         1   31.0     8      3.0   \n",
       "2             2        8521   160625         1   32.0     5      5.0   \n",
       "3             3        8523   160625         1   32.0    11      4.0   \n",
       "4             4        8524   160625         1   28.0     7      5.0   \n",
       "\n",
       "   cup size  hips  bra size  height_inches  length  fit  \\\n",
       "0       2.0  38.0      32.0           64.0     5.0    3   \n",
       "1       5.0  41.0      36.0           62.0     5.0    3   \n",
       "2       2.0   NaN      32.0           65.0     5.0    1   \n",
       "3       5.0  43.0      38.0           67.0     5.0    2   \n",
       "4       3.0  32.0      34.0           65.0     5.0    3   \n",
       "\n",
       "              review_summary  \\\n",
       "0  This dress. Is so amazing   \n",
       "1  This dress looks great on   \n",
       "2   Used as my wedding dress   \n",
       "3  I love this dress, it's b   \n",
       "4  I love this dress!!! I bo   \n",
       "\n",
       "                                         review_text  polarity  reviewLen  \\\n",
       "0  This dress. Is so amazing. It just arrived tod...  0.392500        301   \n",
       "1  This dress looks great on. I'm a pretty curren...  0.186250        273   \n",
       "2  Used as my wedding dress and I LOVED it!PROS  ...  0.172436        452   \n",
       "3  I love this dress, it's beautiful ! Wore this ...  0.413839        581   \n",
       "4  I love this dress!!! I bought it specifically ...  0.400769        627   \n",
       "\n",
       "   wordCount  \n",
       "0         58  \n",
       "1         57  \n",
       "2         85  \n",
       "3        125  \n",
       "4        117  "
      ]
     },
     "execution_count": 300,
     "metadata": {},
     "output_type": "execute_result"
    }
   ],
   "source": [
    "df = pd.read_csv(\"fashion3.csv\")\n",
    "df.head()"
   ]
  },
  {
   "cell_type": "code",
   "execution_count": 301,
   "id": "341399d4",
   "metadata": {},
   "outputs": [],
   "source": [
    "df.iloc[:,2:13]\n",
    "col_lst = list(range(2,13))\n",
    "col_lst.extend([15,17])\n",
    "df = df.iloc[:,col_lst]\n",
    "df_clean = df.dropna()"
   ]
  },
  {
   "cell_type": "code",
   "execution_count": 302,
   "id": "5fe7419c",
   "metadata": {},
   "outputs": [
    {
     "data": {
      "text/html": [
       "<div>\n",
       "<style scoped>\n",
       "    .dataframe tbody tr th:only-of-type {\n",
       "        vertical-align: middle;\n",
       "    }\n",
       "\n",
       "    .dataframe tbody tr th {\n",
       "        vertical-align: top;\n",
       "    }\n",
       "\n",
       "    .dataframe thead th {\n",
       "        text-align: right;\n",
       "    }\n",
       "</style>\n",
       "<table border=\"1\" class=\"dataframe\">\n",
       "  <thead>\n",
       "    <tr style=\"text-align: right;\">\n",
       "      <th></th>\n",
       "      <th>item_id</th>\n",
       "      <th>category</th>\n",
       "      <th>waist</th>\n",
       "      <th>size</th>\n",
       "      <th>quality</th>\n",
       "      <th>cup size</th>\n",
       "      <th>hips</th>\n",
       "      <th>bra size</th>\n",
       "      <th>height_inches</th>\n",
       "      <th>length</th>\n",
       "      <th>fit</th>\n",
       "      <th>polarity</th>\n",
       "      <th>wordCount</th>\n",
       "    </tr>\n",
       "  </thead>\n",
       "  <tbody>\n",
       "    <tr>\n",
       "      <th>0</th>\n",
       "      <td>159891</td>\n",
       "      <td>1</td>\n",
       "      <td>26.0</td>\n",
       "      <td>1</td>\n",
       "      <td>5.0</td>\n",
       "      <td>2.0</td>\n",
       "      <td>38.0</td>\n",
       "      <td>32.0</td>\n",
       "      <td>64.0</td>\n",
       "      <td>5.0</td>\n",
       "      <td>3</td>\n",
       "      <td>0.392500</td>\n",
       "      <td>58</td>\n",
       "    </tr>\n",
       "    <tr>\n",
       "      <th>1</th>\n",
       "      <td>159891</td>\n",
       "      <td>1</td>\n",
       "      <td>31.0</td>\n",
       "      <td>8</td>\n",
       "      <td>3.0</td>\n",
       "      <td>5.0</td>\n",
       "      <td>41.0</td>\n",
       "      <td>36.0</td>\n",
       "      <td>62.0</td>\n",
       "      <td>5.0</td>\n",
       "      <td>3</td>\n",
       "      <td>0.186250</td>\n",
       "      <td>57</td>\n",
       "    </tr>\n",
       "    <tr>\n",
       "      <th>3</th>\n",
       "      <td>160625</td>\n",
       "      <td>1</td>\n",
       "      <td>32.0</td>\n",
       "      <td>11</td>\n",
       "      <td>4.0</td>\n",
       "      <td>5.0</td>\n",
       "      <td>43.0</td>\n",
       "      <td>38.0</td>\n",
       "      <td>67.0</td>\n",
       "      <td>5.0</td>\n",
       "      <td>2</td>\n",
       "      <td>0.413839</td>\n",
       "      <td>125</td>\n",
       "    </tr>\n",
       "    <tr>\n",
       "      <th>4</th>\n",
       "      <td>160625</td>\n",
       "      <td>1</td>\n",
       "      <td>28.0</td>\n",
       "      <td>7</td>\n",
       "      <td>5.0</td>\n",
       "      <td>3.0</td>\n",
       "      <td>32.0</td>\n",
       "      <td>34.0</td>\n",
       "      <td>65.0</td>\n",
       "      <td>5.0</td>\n",
       "      <td>3</td>\n",
       "      <td>0.400769</td>\n",
       "      <td>117</td>\n",
       "    </tr>\n",
       "    <tr>\n",
       "      <th>7</th>\n",
       "      <td>160625</td>\n",
       "      <td>1</td>\n",
       "      <td>27.0</td>\n",
       "      <td>5</td>\n",
       "      <td>5.0</td>\n",
       "      <td>3.0</td>\n",
       "      <td>38.0</td>\n",
       "      <td>36.0</td>\n",
       "      <td>68.0</td>\n",
       "      <td>5.0</td>\n",
       "      <td>2</td>\n",
       "      <td>0.098889</td>\n",
       "      <td>42</td>\n",
       "    </tr>\n",
       "  </tbody>\n",
       "</table>\n",
       "</div>"
      ],
      "text/plain": [
       "   item_id  category  waist  size  quality  cup size  hips  bra size  \\\n",
       "0   159891         1   26.0     1      5.0       2.0  38.0      32.0   \n",
       "1   159891         1   31.0     8      3.0       5.0  41.0      36.0   \n",
       "3   160625         1   32.0    11      4.0       5.0  43.0      38.0   \n",
       "4   160625         1   28.0     7      5.0       3.0  32.0      34.0   \n",
       "7   160625         1   27.0     5      5.0       3.0  38.0      36.0   \n",
       "\n",
       "   height_inches  length  fit  polarity  wordCount  \n",
       "0           64.0     5.0    3  0.392500         58  \n",
       "1           62.0     5.0    3  0.186250         57  \n",
       "3           67.0     5.0    2  0.413839        125  \n",
       "4           65.0     5.0    3  0.400769        117  \n",
       "7           68.0     5.0    2  0.098889         42  "
      ]
     },
     "execution_count": 302,
     "metadata": {},
     "output_type": "execute_result"
    }
   ],
   "source": [
    "df_clean.head()"
   ]
  },
  {
   "cell_type": "markdown",
   "id": "a2b7be47",
   "metadata": {},
   "source": [
    "# SVD\n",
    "\n",
    "User's rating scores:\n",
    "\n",
    "* `quality`, and `polarity`\n",
    "\n",
    "Because both features have different scaling, we need to make sure that they have same scaling to combine them together"
   ]
  },
  {
   "cell_type": "code",
   "execution_count": 303,
   "id": "8ae6c906",
   "metadata": {},
   "outputs": [
    {
     "data": {
      "text/html": [
       "<div>\n",
       "<style scoped>\n",
       "    .dataframe tbody tr th:only-of-type {\n",
       "        vertical-align: middle;\n",
       "    }\n",
       "\n",
       "    .dataframe tbody tr th {\n",
       "        vertical-align: top;\n",
       "    }\n",
       "\n",
       "    .dataframe thead th {\n",
       "        text-align: right;\n",
       "    }\n",
       "</style>\n",
       "<table border=\"1\" class=\"dataframe\">\n",
       "  <thead>\n",
       "    <tr style=\"text-align: right;\">\n",
       "      <th></th>\n",
       "      <th>quality</th>\n",
       "      <th>polarity</th>\n",
       "      <th>avg</th>\n",
       "    </tr>\n",
       "  </thead>\n",
       "  <tbody>\n",
       "    <tr>\n",
       "      <th>0</th>\n",
       "      <td>1.00</td>\n",
       "      <td>0.69</td>\n",
       "      <td>0.845</td>\n",
       "    </tr>\n",
       "    <tr>\n",
       "      <th>1</th>\n",
       "      <td>0.50</td>\n",
       "      <td>0.59</td>\n",
       "      <td>0.545</td>\n",
       "    </tr>\n",
       "    <tr>\n",
       "      <th>3</th>\n",
       "      <td>0.75</td>\n",
       "      <td>0.70</td>\n",
       "      <td>0.725</td>\n",
       "    </tr>\n",
       "    <tr>\n",
       "      <th>4</th>\n",
       "      <td>1.00</td>\n",
       "      <td>0.70</td>\n",
       "      <td>0.850</td>\n",
       "    </tr>\n",
       "    <tr>\n",
       "      <th>7</th>\n",
       "      <td>1.00</td>\n",
       "      <td>0.54</td>\n",
       "      <td>0.770</td>\n",
       "    </tr>\n",
       "  </tbody>\n",
       "</table>\n",
       "</div>"
      ],
      "text/plain": [
       "   quality  polarity    avg\n",
       "0     1.00      0.69  0.845\n",
       "1     0.50      0.59  0.545\n",
       "3     0.75      0.70  0.725\n",
       "4     1.00      0.70  0.850\n",
       "7     1.00      0.54  0.770"
      ]
     },
     "execution_count": 303,
     "metadata": {},
     "output_type": "execute_result"
    }
   ],
   "source": [
    "# Scaling range: [0,1]\n",
    "# After scaling, take the average to get the overall score\n",
    "col_lst = [4,11]\n",
    "score = df_clean.iloc[:,col_lst].apply(lambda iterator: ((iterator - iterator.min())/(iterator.max() - iterator.min())).round(2))\n",
    "score[\"avg\"] = score.mean(axis=1)\n",
    "score.head()"
   ]
  },
  {
   "cell_type": "code",
   "execution_count": 304,
   "id": "b7e3cbfa",
   "metadata": {},
   "outputs": [],
   "source": [
    " # Add user id and category\n",
    "score.insert(0, \"user_id\", score.index + 1)\n",
    "score.insert(1, \"item_id\", df_clean[\"category\"])"
   ]
  },
  {
   "cell_type": "code",
   "execution_count": 305,
   "id": "cd4d1652",
   "metadata": {},
   "outputs": [
    {
     "data": {
      "text/html": [
       "<div>\n",
       "<style scoped>\n",
       "    .dataframe tbody tr th:only-of-type {\n",
       "        vertical-align: middle;\n",
       "    }\n",
       "\n",
       "    .dataframe tbody tr th {\n",
       "        vertical-align: top;\n",
       "    }\n",
       "\n",
       "    .dataframe thead th {\n",
       "        text-align: right;\n",
       "    }\n",
       "</style>\n",
       "<table border=\"1\" class=\"dataframe\">\n",
       "  <thead>\n",
       "    <tr style=\"text-align: right;\">\n",
       "      <th></th>\n",
       "      <th>user_id</th>\n",
       "      <th>item_id</th>\n",
       "      <th>quality</th>\n",
       "    </tr>\n",
       "  </thead>\n",
       "  <tbody>\n",
       "    <tr>\n",
       "      <th>0</th>\n",
       "      <td>1</td>\n",
       "      <td>1</td>\n",
       "      <td>1.00</td>\n",
       "    </tr>\n",
       "    <tr>\n",
       "      <th>1</th>\n",
       "      <td>2</td>\n",
       "      <td>1</td>\n",
       "      <td>0.50</td>\n",
       "    </tr>\n",
       "    <tr>\n",
       "      <th>3</th>\n",
       "      <td>4</td>\n",
       "      <td>1</td>\n",
       "      <td>0.75</td>\n",
       "    </tr>\n",
       "    <tr>\n",
       "      <th>4</th>\n",
       "      <td>5</td>\n",
       "      <td>1</td>\n",
       "      <td>1.00</td>\n",
       "    </tr>\n",
       "    <tr>\n",
       "      <th>7</th>\n",
       "      <td>8</td>\n",
       "      <td>1</td>\n",
       "      <td>1.00</td>\n",
       "    </tr>\n",
       "  </tbody>\n",
       "</table>\n",
       "</div>"
      ],
      "text/plain": [
       "   user_id  item_id  quality\n",
       "0        1        1     1.00\n",
       "1        2        1     0.50\n",
       "3        4        1     0.75\n",
       "4        5        1     1.00\n",
       "7        8        1     1.00"
      ]
     },
     "execution_count": 305,
     "metadata": {},
     "output_type": "execute_result"
    }
   ],
   "source": [
    "# only keep the first three columns\n",
    "score = score.iloc[:,0:3]\n",
    "score.head()"
   ]
  },
  {
   "cell_type": "code",
   "execution_count": 306,
   "id": "d5068926",
   "metadata": {},
   "outputs": [],
   "source": [
    "score2 = score[\"quality\"]"
   ]
  },
  {
   "cell_type": "code",
   "execution_count": 307,
   "id": "3019486c",
   "metadata": {},
   "outputs": [],
   "source": [
    "score = score.pivot(index='user_id', columns='item_id', values='quality') "
   ]
  },
  {
   "cell_type": "code",
   "execution_count": 308,
   "id": "78a9b6d1",
   "metadata": {},
   "outputs": [
    {
     "data": {
      "text/html": [
       "<div>\n",
       "<style scoped>\n",
       "    .dataframe tbody tr th:only-of-type {\n",
       "        vertical-align: middle;\n",
       "    }\n",
       "\n",
       "    .dataframe tbody tr th {\n",
       "        vertical-align: top;\n",
       "    }\n",
       "\n",
       "    .dataframe thead th {\n",
       "        text-align: right;\n",
       "    }\n",
       "</style>\n",
       "<table border=\"1\" class=\"dataframe\">\n",
       "  <thead>\n",
       "    <tr style=\"text-align: right;\">\n",
       "      <th>item_id</th>\n",
       "      <th>1</th>\n",
       "      <th>2</th>\n",
       "      <th>3</th>\n",
       "      <th>4</th>\n",
       "    </tr>\n",
       "    <tr>\n",
       "      <th>user_id</th>\n",
       "      <th></th>\n",
       "      <th></th>\n",
       "      <th></th>\n",
       "      <th></th>\n",
       "    </tr>\n",
       "  </thead>\n",
       "  <tbody>\n",
       "    <tr>\n",
       "      <th>1</th>\n",
       "      <td>1.00</td>\n",
       "      <td>NaN</td>\n",
       "      <td>NaN</td>\n",
       "      <td>NaN</td>\n",
       "    </tr>\n",
       "    <tr>\n",
       "      <th>2</th>\n",
       "      <td>0.50</td>\n",
       "      <td>NaN</td>\n",
       "      <td>NaN</td>\n",
       "      <td>NaN</td>\n",
       "    </tr>\n",
       "    <tr>\n",
       "      <th>4</th>\n",
       "      <td>0.75</td>\n",
       "      <td>NaN</td>\n",
       "      <td>NaN</td>\n",
       "      <td>NaN</td>\n",
       "    </tr>\n",
       "    <tr>\n",
       "      <th>5</th>\n",
       "      <td>1.00</td>\n",
       "      <td>NaN</td>\n",
       "      <td>NaN</td>\n",
       "      <td>NaN</td>\n",
       "    </tr>\n",
       "    <tr>\n",
       "      <th>8</th>\n",
       "      <td>1.00</td>\n",
       "      <td>NaN</td>\n",
       "      <td>NaN</td>\n",
       "      <td>NaN</td>\n",
       "    </tr>\n",
       "  </tbody>\n",
       "</table>\n",
       "</div>"
      ],
      "text/plain": [
       "item_id     1   2   3   4\n",
       "user_id                  \n",
       "1        1.00 NaN NaN NaN\n",
       "2        0.50 NaN NaN NaN\n",
       "4        0.75 NaN NaN NaN\n",
       "5        1.00 NaN NaN NaN\n",
       "8        1.00 NaN NaN NaN"
      ]
     },
     "execution_count": 308,
     "metadata": {},
     "output_type": "execute_result"
    }
   ],
   "source": [
    "score.head()"
   ]
  },
  {
   "cell_type": "code",
   "execution_count": 309,
   "id": "041c434c",
   "metadata": {},
   "outputs": [],
   "source": [
    "df_top = df_clean[['waist','height_inches','cup size', 'bra size']].copy()"
   ]
  },
  {
   "cell_type": "code",
   "execution_count": 310,
   "id": "3fbb2278",
   "metadata": {},
   "outputs": [
    {
     "data": {
      "text/html": [
       "<div>\n",
       "<style scoped>\n",
       "    .dataframe tbody tr th:only-of-type {\n",
       "        vertical-align: middle;\n",
       "    }\n",
       "\n",
       "    .dataframe tbody tr th {\n",
       "        vertical-align: top;\n",
       "    }\n",
       "\n",
       "    .dataframe thead th {\n",
       "        text-align: right;\n",
       "    }\n",
       "</style>\n",
       "<table border=\"1\" class=\"dataframe\">\n",
       "  <thead>\n",
       "    <tr style=\"text-align: right;\">\n",
       "      <th>item_id</th>\n",
       "      <th>1</th>\n",
       "      <th>2</th>\n",
       "      <th>3</th>\n",
       "      <th>4</th>\n",
       "    </tr>\n",
       "    <tr>\n",
       "      <th>user_id</th>\n",
       "      <th></th>\n",
       "      <th></th>\n",
       "      <th></th>\n",
       "      <th></th>\n",
       "    </tr>\n",
       "  </thead>\n",
       "  <tbody>\n",
       "    <tr>\n",
       "      <th>1</th>\n",
       "      <td>1.00</td>\n",
       "      <td>0.0</td>\n",
       "      <td>0.0</td>\n",
       "      <td>0.00</td>\n",
       "    </tr>\n",
       "    <tr>\n",
       "      <th>2</th>\n",
       "      <td>0.50</td>\n",
       "      <td>0.0</td>\n",
       "      <td>0.0</td>\n",
       "      <td>0.00</td>\n",
       "    </tr>\n",
       "    <tr>\n",
       "      <th>4</th>\n",
       "      <td>0.75</td>\n",
       "      <td>0.0</td>\n",
       "      <td>0.0</td>\n",
       "      <td>0.00</td>\n",
       "    </tr>\n",
       "    <tr>\n",
       "      <th>5</th>\n",
       "      <td>1.00</td>\n",
       "      <td>0.0</td>\n",
       "      <td>0.0</td>\n",
       "      <td>0.00</td>\n",
       "    </tr>\n",
       "    <tr>\n",
       "      <th>8</th>\n",
       "      <td>1.00</td>\n",
       "      <td>0.0</td>\n",
       "      <td>0.0</td>\n",
       "      <td>0.00</td>\n",
       "    </tr>\n",
       "    <tr>\n",
       "      <th>...</th>\n",
       "      <td>...</td>\n",
       "      <td>...</td>\n",
       "      <td>...</td>\n",
       "      <td>...</td>\n",
       "    </tr>\n",
       "    <tr>\n",
       "      <th>2090</th>\n",
       "      <td>0.00</td>\n",
       "      <td>0.0</td>\n",
       "      <td>0.0</td>\n",
       "      <td>0.00</td>\n",
       "    </tr>\n",
       "    <tr>\n",
       "      <th>2091</th>\n",
       "      <td>0.00</td>\n",
       "      <td>0.0</td>\n",
       "      <td>0.0</td>\n",
       "      <td>1.00</td>\n",
       "    </tr>\n",
       "    <tr>\n",
       "      <th>2094</th>\n",
       "      <td>0.00</td>\n",
       "      <td>0.0</td>\n",
       "      <td>0.0</td>\n",
       "      <td>1.00</td>\n",
       "    </tr>\n",
       "    <tr>\n",
       "      <th>2095</th>\n",
       "      <td>0.00</td>\n",
       "      <td>0.0</td>\n",
       "      <td>0.0</td>\n",
       "      <td>1.00</td>\n",
       "    </tr>\n",
       "    <tr>\n",
       "      <th>2096</th>\n",
       "      <td>0.00</td>\n",
       "      <td>0.0</td>\n",
       "      <td>0.0</td>\n",
       "      <td>0.75</td>\n",
       "    </tr>\n",
       "  </tbody>\n",
       "</table>\n",
       "<p>1455 rows × 4 columns</p>\n",
       "</div>"
      ],
      "text/plain": [
       "item_id     1    2    3     4\n",
       "user_id                      \n",
       "1        1.00  0.0  0.0  0.00\n",
       "2        0.50  0.0  0.0  0.00\n",
       "4        0.75  0.0  0.0  0.00\n",
       "5        1.00  0.0  0.0  0.00\n",
       "8        1.00  0.0  0.0  0.00\n",
       "...       ...  ...  ...   ...\n",
       "2090     0.00  0.0  0.0  0.00\n",
       "2091     0.00  0.0  0.0  1.00\n",
       "2094     0.00  0.0  0.0  1.00\n",
       "2095     0.00  0.0  0.0  1.00\n",
       "2096     0.00  0.0  0.0  0.75\n",
       "\n",
       "[1455 rows x 4 columns]"
      ]
     },
     "execution_count": 310,
     "metadata": {},
     "output_type": "execute_result"
    }
   ],
   "source": [
    "score.fillna(0)"
   ]
  },
  {
   "cell_type": "code",
   "execution_count": 311,
   "id": "c2ba16a7",
   "metadata": {},
   "outputs": [],
   "source": [
    "X = df_top\n",
    "y = score2"
   ]
  },
  {
   "cell_type": "code",
   "execution_count": 312,
   "id": "c81fa886",
   "metadata": {},
   "outputs": [],
   "source": [
    "scaler = StandardScaler()"
   ]
  },
  {
   "cell_type": "code",
   "execution_count": 313,
   "id": "4e7b6433",
   "metadata": {},
   "outputs": [
    {
     "data": {
      "text/plain": [
       "StandardScaler()"
      ]
     },
     "execution_count": 313,
     "metadata": {},
     "output_type": "execute_result"
    }
   ],
   "source": [
    "scaler.fit(X)"
   ]
  },
  {
   "cell_type": "code",
   "execution_count": 314,
   "id": "40992b9e",
   "metadata": {},
   "outputs": [],
   "source": [
    "X_scaled = scaler.transform(X)"
   ]
  },
  {
   "cell_type": "code",
   "execution_count": 315,
   "id": "d30c7525",
   "metadata": {},
   "outputs": [],
   "source": [
    "reg = KNeighborsRegressor(n_neighbors=15)"
   ]
  },
  {
   "cell_type": "code",
   "execution_count": 316,
   "id": "f9e587ba",
   "metadata": {},
   "outputs": [
    {
     "data": {
      "text/plain": [
       "KNeighborsRegressor(n_neighbors=15)"
      ]
     },
     "execution_count": 316,
     "metadata": {},
     "output_type": "execute_result"
    }
   ],
   "source": [
    "reg.fit(X_scaled,y)"
   ]
  },
  {
   "cell_type": "code",
   "execution_count": 317,
   "id": "01b13d28",
   "metadata": {},
   "outputs": [],
   "source": [
    "score[\"top pred\"] = reg.predict(X_scaled)"
   ]
  },
  {
   "cell_type": "code",
   "execution_count": 318,
   "id": "d8533f4a",
   "metadata": {},
   "outputs": [
    {
     "data": {
      "text/html": [
       "<div>\n",
       "<style scoped>\n",
       "    .dataframe tbody tr th:only-of-type {\n",
       "        vertical-align: middle;\n",
       "    }\n",
       "\n",
       "    .dataframe tbody tr th {\n",
       "        vertical-align: top;\n",
       "    }\n",
       "\n",
       "    .dataframe thead th {\n",
       "        text-align: right;\n",
       "    }\n",
       "</style>\n",
       "<table border=\"1\" class=\"dataframe\">\n",
       "  <thead>\n",
       "    <tr style=\"text-align: right;\">\n",
       "      <th>item_id</th>\n",
       "      <th>1</th>\n",
       "      <th>2</th>\n",
       "      <th>3</th>\n",
       "      <th>4</th>\n",
       "      <th>top pred</th>\n",
       "    </tr>\n",
       "    <tr>\n",
       "      <th>user_id</th>\n",
       "      <th></th>\n",
       "      <th></th>\n",
       "      <th></th>\n",
       "      <th></th>\n",
       "      <th></th>\n",
       "    </tr>\n",
       "  </thead>\n",
       "  <tbody>\n",
       "    <tr>\n",
       "      <th>1</th>\n",
       "      <td>1.00</td>\n",
       "      <td>NaN</td>\n",
       "      <td>NaN</td>\n",
       "      <td>NaN</td>\n",
       "      <td>0.700000</td>\n",
       "    </tr>\n",
       "    <tr>\n",
       "      <th>2</th>\n",
       "      <td>0.50</td>\n",
       "      <td>NaN</td>\n",
       "      <td>NaN</td>\n",
       "      <td>NaN</td>\n",
       "      <td>0.866667</td>\n",
       "    </tr>\n",
       "    <tr>\n",
       "      <th>4</th>\n",
       "      <td>0.75</td>\n",
       "      <td>NaN</td>\n",
       "      <td>NaN</td>\n",
       "      <td>NaN</td>\n",
       "      <td>0.866667</td>\n",
       "    </tr>\n",
       "    <tr>\n",
       "      <th>5</th>\n",
       "      <td>1.00</td>\n",
       "      <td>NaN</td>\n",
       "      <td>NaN</td>\n",
       "      <td>NaN</td>\n",
       "      <td>0.783333</td>\n",
       "    </tr>\n",
       "    <tr>\n",
       "      <th>8</th>\n",
       "      <td>1.00</td>\n",
       "      <td>NaN</td>\n",
       "      <td>NaN</td>\n",
       "      <td>NaN</td>\n",
       "      <td>0.816667</td>\n",
       "    </tr>\n",
       "    <tr>\n",
       "      <th>...</th>\n",
       "      <td>...</td>\n",
       "      <td>...</td>\n",
       "      <td>...</td>\n",
       "      <td>...</td>\n",
       "      <td>...</td>\n",
       "    </tr>\n",
       "    <tr>\n",
       "      <th>2090</th>\n",
       "      <td>NaN</td>\n",
       "      <td>NaN</td>\n",
       "      <td>NaN</td>\n",
       "      <td>0.00</td>\n",
       "      <td>0.800000</td>\n",
       "    </tr>\n",
       "    <tr>\n",
       "      <th>2091</th>\n",
       "      <td>NaN</td>\n",
       "      <td>NaN</td>\n",
       "      <td>NaN</td>\n",
       "      <td>1.00</td>\n",
       "      <td>0.750000</td>\n",
       "    </tr>\n",
       "    <tr>\n",
       "      <th>2094</th>\n",
       "      <td>NaN</td>\n",
       "      <td>NaN</td>\n",
       "      <td>NaN</td>\n",
       "      <td>1.00</td>\n",
       "      <td>0.750000</td>\n",
       "    </tr>\n",
       "    <tr>\n",
       "      <th>2095</th>\n",
       "      <td>NaN</td>\n",
       "      <td>NaN</td>\n",
       "      <td>NaN</td>\n",
       "      <td>1.00</td>\n",
       "      <td>0.783333</td>\n",
       "    </tr>\n",
       "    <tr>\n",
       "      <th>2096</th>\n",
       "      <td>NaN</td>\n",
       "      <td>NaN</td>\n",
       "      <td>NaN</td>\n",
       "      <td>0.75</td>\n",
       "      <td>0.850000</td>\n",
       "    </tr>\n",
       "  </tbody>\n",
       "</table>\n",
       "<p>1455 rows × 5 columns</p>\n",
       "</div>"
      ],
      "text/plain": [
       "item_id     1   2   3     4  top pred\n",
       "user_id                              \n",
       "1        1.00 NaN NaN   NaN  0.700000\n",
       "2        0.50 NaN NaN   NaN  0.866667\n",
       "4        0.75 NaN NaN   NaN  0.866667\n",
       "5        1.00 NaN NaN   NaN  0.783333\n",
       "8        1.00 NaN NaN   NaN  0.816667\n",
       "...       ...  ..  ..   ...       ...\n",
       "2090      NaN NaN NaN  0.00  0.800000\n",
       "2091      NaN NaN NaN  1.00  0.750000\n",
       "2094      NaN NaN NaN  1.00  0.750000\n",
       "2095      NaN NaN NaN  1.00  0.783333\n",
       "2096      NaN NaN NaN  0.75  0.850000\n",
       "\n",
       "[1455 rows x 5 columns]"
      ]
     },
     "execution_count": 318,
     "metadata": {},
     "output_type": "execute_result"
    }
   ],
   "source": [
    "score"
   ]
  },
  {
   "cell_type": "code",
   "execution_count": 319,
   "id": "fa0a2cae",
   "metadata": {},
   "outputs": [],
   "source": [
    "X_scaled_train, X_scaled_test, y_train, y_test = train_test_split(X_scaled,y,test_size=0.2)"
   ]
  },
  {
   "cell_type": "code",
   "execution_count": 320,
   "id": "9eadcaf6",
   "metadata": {},
   "outputs": [
    {
     "data": {
      "text/plain": [
       "KNeighborsRegressor(n_neighbors=15)"
      ]
     },
     "execution_count": 320,
     "metadata": {},
     "output_type": "execute_result"
    }
   ],
   "source": [
    "reg.fit(X_scaled_train,y_train)"
   ]
  },
  {
   "cell_type": "code",
   "execution_count": 321,
   "id": "9b4b4a61",
   "metadata": {},
   "outputs": [
    {
     "data": {
      "text/plain": [
       "0.0648663612065674"
      ]
     },
     "execution_count": 321,
     "metadata": {},
     "output_type": "execute_result"
    }
   ],
   "source": [
    "mean_squared_error(reg.predict(X_scaled_test),y_test)"
   ]
  },
  {
   "cell_type": "code",
   "execution_count": 322,
   "id": "78d8e30f",
   "metadata": {},
   "outputs": [
    {
     "data": {
      "text/plain": [
       "0.05556796487208858"
      ]
     },
     "execution_count": 322,
     "metadata": {},
     "output_type": "execute_result"
    }
   ],
   "source": [
    "mean_squared_error(reg.predict(X_scaled_train),y_train)"
   ]
  },
  {
   "cell_type": "code",
   "execution_count": 323,
   "id": "175a4aae",
   "metadata": {},
   "outputs": [],
   "source": [
    "def get_scores(k):\n",
    "    reg = KNeighborsRegressor(n_neighbors=k)\n",
    "    reg.fit(X_scaled_train, y_train)\n",
    "    train_error = mean_absolute_error(reg.predict(X_scaled_train), y_train)\n",
    "    test_error = mean_absolute_error(reg.predict(X_scaled_test), y_test)\n",
    "    return (train_error, test_error)\n",
    "\n",
    "df_scores = pd.DataFrame({\"k\":range(1,150),\"train_error\":np.nan,\"test_error\":np.nan})\n",
    "\n",
    "for i in df_scores.index:\n",
    "    df_scores.loc[i,[\"train_error\",\"test_error\"]] = get_scores(df_scores.loc[i,\"k\"])\n",
    "\n",
    "df_scores[\"kinv\"] = 1/df_scores.k"
   ]
  },
  {
   "cell_type": "code",
   "execution_count": 324,
   "id": "1aa9fa25",
   "metadata": {},
   "outputs": [],
   "source": [
    "ctrain = alt.Chart(df_scores).mark_line(color=\"#FF0000\").encode(\n",
    "    x = \"kinv\",\n",
    "    y = \"train_error\"\n",
    ")"
   ]
  },
  {
   "cell_type": "code",
   "execution_count": 325,
   "id": "53ee7479",
   "metadata": {},
   "outputs": [],
   "source": [
    "ctest = alt.Chart(df_scores).mark_line(color=\"#045FB4\").encode(\n",
    "    x = alt.X(\"kinv\",title='k-inverse'),\n",
    "    y = \"test_error\"\n",
    ")"
   ]
  },
  {
   "cell_type": "code",
   "execution_count": 326,
   "id": "174ed7bd",
   "metadata": {},
   "outputs": [
    {
     "data": {
      "text/html": [
       "\n",
       "<div id=\"altair-viz-d70b0cd1e4924963a8098b093948e445\"></div>\n",
       "<script type=\"text/javascript\">\n",
       "  var VEGA_DEBUG = (typeof VEGA_DEBUG == \"undefined\") ? {} : VEGA_DEBUG;\n",
       "  (function(spec, embedOpt){\n",
       "    let outputDiv = document.currentScript.previousElementSibling;\n",
       "    if (outputDiv.id !== \"altair-viz-d70b0cd1e4924963a8098b093948e445\") {\n",
       "      outputDiv = document.getElementById(\"altair-viz-d70b0cd1e4924963a8098b093948e445\");\n",
       "    }\n",
       "    const paths = {\n",
       "      \"vega\": \"https://cdn.jsdelivr.net/npm//vega@5?noext\",\n",
       "      \"vega-lib\": \"https://cdn.jsdelivr.net/npm//vega-lib?noext\",\n",
       "      \"vega-lite\": \"https://cdn.jsdelivr.net/npm//vega-lite@4.17.0?noext\",\n",
       "      \"vega-embed\": \"https://cdn.jsdelivr.net/npm//vega-embed@6?noext\",\n",
       "    };\n",
       "\n",
       "    function maybeLoadScript(lib, version) {\n",
       "      var key = `${lib.replace(\"-\", \"\")}_version`;\n",
       "      return (VEGA_DEBUG[key] == version) ?\n",
       "        Promise.resolve(paths[lib]) :\n",
       "        new Promise(function(resolve, reject) {\n",
       "          var s = document.createElement('script');\n",
       "          document.getElementsByTagName(\"head\")[0].appendChild(s);\n",
       "          s.async = true;\n",
       "          s.onload = () => {\n",
       "            VEGA_DEBUG[key] = version;\n",
       "            return resolve(paths[lib]);\n",
       "          };\n",
       "          s.onerror = () => reject(`Error loading script: ${paths[lib]}`);\n",
       "          s.src = paths[lib];\n",
       "        });\n",
       "    }\n",
       "\n",
       "    function showError(err) {\n",
       "      outputDiv.innerHTML = `<div class=\"error\" style=\"color:red;\">${err}</div>`;\n",
       "      throw err;\n",
       "    }\n",
       "\n",
       "    function displayChart(vegaEmbed) {\n",
       "      vegaEmbed(outputDiv, spec, embedOpt)\n",
       "        .catch(err => showError(`Javascript Error: ${err.message}<br>This usually means there's a typo in your chart specification. See the javascript console for the full traceback.`));\n",
       "    }\n",
       "\n",
       "    if(typeof define === \"function\" && define.amd) {\n",
       "      requirejs.config({paths});\n",
       "      require([\"vega-embed\"], displayChart, err => showError(`Error loading script: ${err.message}`));\n",
       "    } else {\n",
       "      maybeLoadScript(\"vega\", \"5\")\n",
       "        .then(() => maybeLoadScript(\"vega-lite\", \"4.17.0\"))\n",
       "        .then(() => maybeLoadScript(\"vega-embed\", \"6\"))\n",
       "        .catch(showError)\n",
       "        .then(() => displayChart(vegaEmbed));\n",
       "    }\n",
       "  })({\"config\": {\"view\": {\"continuousWidth\": 400, \"continuousHeight\": 300}}, \"layer\": [{\"mark\": {\"type\": \"line\", \"color\": \"#FF0000\"}, \"encoding\": {\"x\": {\"field\": \"kinv\", \"type\": \"quantitative\"}, \"y\": {\"field\": \"train_error\", \"type\": \"quantitative\"}}}, {\"mark\": {\"type\": \"line\", \"color\": \"#045FB4\"}, \"encoding\": {\"x\": {\"field\": \"kinv\", \"title\": \"k-inverse\", \"type\": \"quantitative\"}, \"y\": {\"field\": \"test_error\", \"type\": \"quantitative\"}}}], \"data\": {\"name\": \"data-9de878e85f28d0b1ff9a6267a856ec53\"}, \"$schema\": \"https://vega.github.io/schema/vega-lite/v4.17.0.json\", \"datasets\": {\"data-9de878e85f28d0b1ff9a6267a856ec53\": [{\"k\": 1, \"train_error\": 0.08290378006872852, \"test_error\": 0.2104810996563574, \"kinv\": 1.0}, {\"k\": 2, \"train_error\": 0.13015463917525774, \"test_error\": 0.22207903780068727, \"kinv\": 0.5}, {\"k\": 3, \"train_error\": 0.15270618556701032, \"test_error\": 0.21678121420389465, \"kinv\": 0.3333333333333333}, {\"k\": 4, \"train_error\": 0.164465206185567, \"test_error\": 0.21563573883161513, \"kinv\": 0.25}, {\"k\": 5, \"train_error\": 0.17216494845360825, \"test_error\": 0.2134020618556701, \"kinv\": 0.2}, {\"k\": 6, \"train_error\": 0.17608104238258876, \"test_error\": 0.21191294387170675, \"kinv\": 0.16666666666666666}, {\"k\": 7, \"train_error\": 0.17893961708394698, \"test_error\": 0.20655375552282768, \"kinv\": 0.14285714285714285}, {\"k\": 8, \"train_error\": 0.18282860824742267, \"test_error\": 0.20393041237113402, \"kinv\": 0.125}, {\"k\": 9, \"train_error\": 0.1859249713631157, \"test_error\": 0.20112638411607484, \"kinv\": 0.1111111111111111}, {\"k\": 10, \"train_error\": 0.1870274914089347, \"test_error\": 0.20163230240549826, \"kinv\": 0.1}, {\"k\": 11, \"train_error\": 0.18908153701968136, \"test_error\": 0.20181193377069664, \"kinv\": 0.09090909090909091}, {\"k\": 12, \"train_error\": 0.18934349942726234, \"test_error\": 0.20210481099656358, \"kinv\": 0.08333333333333333}, {\"k\": 13, \"train_error\": 0.18997819191118162, \"test_error\": 0.20083267248215703, \"kinv\": 0.07692307692307693}, {\"k\": 14, \"train_error\": 0.19003129602356406, \"test_error\": 0.20072410407461955, \"kinv\": 0.07142857142857142}, {\"k\": 15, \"train_error\": 0.19032073310423825, \"test_error\": 0.20148911798396335, \"kinv\": 0.06666666666666667}, {\"k\": 16, \"train_error\": 0.19107066151202748, \"test_error\": 0.20006443298969073, \"kinv\": 0.0625}, {\"k\": 17, \"train_error\": 0.19113856882959368, \"test_error\": 0.20108146351324035, \"kinv\": 0.058823529411764705}, {\"k\": 18, \"train_error\": 0.1919745131729668, \"test_error\": 0.20146048109965636, \"kinv\": 0.05555555555555555}, {\"k\": 19, \"train_error\": 0.19242855850967627, \"test_error\": 0.20062398263700487, \"kinv\": 0.05263157894736842}, {\"k\": 20, \"train_error\": 0.19204252577319586, \"test_error\": 0.20060137457044674, \"kinv\": 0.05}, {\"k\": 21, \"train_error\": 0.1919182621502209, \"test_error\": 0.2005809196530846, \"kinv\": 0.047619047619047616}, {\"k\": 22, \"train_error\": 0.19284989065916902, \"test_error\": 0.19900031240237426, \"kinv\": 0.045454545454545456}, {\"k\": 23, \"train_error\": 0.1930468399820708, \"test_error\": 0.1977065590915882, \"kinv\": 0.043478260869565216}, {\"k\": 24, \"train_error\": 0.19356743986254296, \"test_error\": 0.19802405498281786, \"kinv\": 0.041666666666666664}, {\"k\": 25, \"train_error\": 0.19348797250859107, \"test_error\": 0.19845360824742267, \"kinv\": 0.04}, {\"k\": 26, \"train_error\": 0.19362113402061856, \"test_error\": 0.19802405498281786, \"kinv\": 0.038461538461538464}, {\"k\": 27, \"train_error\": 0.19413421153111876, \"test_error\": 0.19864452080946926, \"kinv\": 0.037037037037037035}, {\"k\": 28, \"train_error\": 0.19411205203730975, \"test_error\": 0.19854565537555227, \"kinv\": 0.03571428571428571}, {\"k\": 29, \"train_error\": 0.19470612631828416, \"test_error\": 0.19777224789667022, \"kinv\": 0.034482758620689655}, {\"k\": 30, \"train_error\": 0.19455183276059562, \"test_error\": 0.19871134020618555, \"kinv\": 0.03333333333333333}, {\"k\": 31, \"train_error\": 0.19428971289214053, \"test_error\": 0.1981487639951225, \"kinv\": 0.03225806451612903}, {\"k\": 32, \"train_error\": 0.19437956400343642, \"test_error\": 0.19837306701030927, \"kinv\": 0.03125}, {\"k\": 33, \"train_error\": 0.19470477975632614, \"test_error\": 0.19824533999791732, \"kinv\": 0.030303030303030304}, {\"k\": 34, \"train_error\": 0.1946950171821306, \"test_error\": 0.1985041439256115, \"kinv\": 0.029411764705882353}, {\"k\": 35, \"train_error\": 0.1949251350024546, \"test_error\": 0.19808541973490426, \"kinv\": 0.02857142857142857}, {\"k\": 36, \"train_error\": 0.19513650248186332, \"test_error\": 0.19754677357770142, \"kinv\": 0.027777777777777776}, {\"k\": 37, \"train_error\": 0.1948778675582799, \"test_error\": 0.19750162533667687, \"kinv\": 0.02702702702702703}, {\"k\": 38, \"train_error\": 0.19463284499909567, \"test_error\": 0.19693886778802677, \"kinv\": 0.02631578947368421}, {\"k\": 39, \"train_error\": 0.19458212177284342, \"test_error\": 0.19715393426733635, \"kinv\": 0.02564102564102564}, {\"k\": 40, \"train_error\": 0.19481851374570447, \"test_error\": 0.19699312714776634, \"kinv\": 0.025}, {\"k\": 41, \"train_error\": 0.19445666750481938, \"test_error\": 0.19698684100243066, \"kinv\": 0.024390243902439025}, {\"k\": 42, \"train_error\": 0.19456717394861725, \"test_error\": 0.19706267386679757, \"kinv\": 0.023809523809523808}, {\"k\": 43, \"train_error\": 0.19453268600655318, \"test_error\": 0.19573643410852712, \"kinv\": 0.023255813953488372}, {\"k\": 44, \"train_error\": 0.19408973758200565, \"test_error\": 0.19601296469853172, \"kinv\": 0.022727272727272728}, {\"k\": 45, \"train_error\": 0.19429648720885834, \"test_error\": 0.19545628102329135, \"kinv\": 0.022222222222222223}, {\"k\": 46, \"train_error\": 0.19431682354698937, \"test_error\": 0.19576423128641862, \"kinv\": 0.021739130434782608}, {\"k\": 47, \"train_error\": 0.19420377275718362, \"test_error\": 0.19492578781896613, \"kinv\": 0.02127659574468085}, {\"k\": 48, \"train_error\": 0.19425651489117982, \"test_error\": 0.19489189576174112, \"kinv\": 0.020833333333333332}, {\"k\": 49, \"train_error\": 0.19434216985763378, \"test_error\": 0.1953678378567922, \"kinv\": 0.02040816326530612}, {\"k\": 50, \"train_error\": 0.19452319587628866, \"test_error\": 0.19539518900343641, \"kinv\": 0.02}, {\"k\": 51, \"train_error\": 0.19439812007277135, \"test_error\": 0.1952193248433394, \"kinv\": 0.0196078431372549}, {\"k\": 52, \"train_error\": 0.1942076394395982, \"test_error\": 0.19546325667459685, \"kinv\": 0.019230769230769232}, {\"k\": 53, \"train_error\": 0.1942593853335927, \"test_error\": 0.19526032548790767, \"kinv\": 0.018867924528301886}, {\"k\": 54, \"train_error\": 0.19400693648975437, \"test_error\": 0.19536718849433626, \"kinv\": 0.018518518518518517}, {\"k\": 55, \"train_error\": 0.19404092471102782, \"test_error\": 0.1949390815370197, \"kinv\": 0.01818181818181818}, {\"k\": 56, \"train_error\": 0.19396631075110457, \"test_error\": 0.194602970054001, \"kinv\": 0.017857142857142856}, {\"k\": 57, \"train_error\": 0.19399981913546754, \"test_error\": 0.1948664616868632, \"kinv\": 0.017543859649122806}, {\"k\": 58, \"train_error\": 0.19375814669984595, \"test_error\": 0.1944691314136746, \"kinv\": 0.017241379310344827}, {\"k\": 59, \"train_error\": 0.19399062263381675, \"test_error\": 0.19478420408876465, \"kinv\": 0.01694915254237288}, {\"k\": 60, \"train_error\": 0.19411154066437572, \"test_error\": 0.1947594501718213, \"kinv\": 0.016666666666666666}, {\"k\": 61, \"train_error\": 0.19410878260379696, \"test_error\": 0.1951157681257394, \"kinv\": 0.01639344262295082}, {\"k\": 62, \"train_error\": 0.19400565347522447, \"test_error\": 0.19519731737057974, \"kinv\": 0.016129032258064516}, {\"k\": 63, \"train_error\": 0.19384784268804886, \"test_error\": 0.19531718758522884, \"kinv\": 0.015873015873015872}, {\"k\": 64, \"train_error\": 0.19400034901202748, \"test_error\": 0.19546015893470792, \"kinv\": 0.015625}, {\"k\": 65, \"train_error\": 0.19408868622786146, \"test_error\": 0.19544012688342585, \"kinv\": 0.015384615384615385}, {\"k\": 66, \"train_error\": 0.19406370405081744, \"test_error\": 0.19575913776944706, \"kinv\": 0.015151515151515152}, {\"k\": 67, \"train_error\": 0.1939048315125404, \"test_error\": 0.19551725906549727, \"kinv\": 0.014925373134328358}, {\"k\": 68, \"train_error\": 0.19409806448352537, \"test_error\": 0.1956236102688498, \"kinv\": 0.014705882352941176}, {\"k\": 69, \"train_error\": 0.19396197519796804, \"test_error\": 0.1956895263708352, \"kinv\": 0.014492753623188406}, {\"k\": 70, \"train_error\": 0.1938082965144821, \"test_error\": 0.1958762886597938, \"kinv\": 0.014285714285714285}, {\"k\": 71, \"train_error\": 0.1937708726586322, \"test_error\": 0.1960335898552829, \"kinv\": 0.014084507042253521}, {\"k\": 72, \"train_error\": 0.19375238640702558, \"test_error\": 0.19591208476517757, \"kinv\": 0.013888888888888888}, {\"k\": 73, \"train_error\": 0.19377265452148942, \"test_error\": 0.19566445417313938, \"kinv\": 0.0136986301369863}, {\"k\": 74, \"train_error\": 0.19371110801523173, \"test_error\": 0.19593433639825392, \"kinv\": 0.013513513513513514}, {\"k\": 75, \"train_error\": 0.19371420389461627, \"test_error\": 0.19607101947308134, \"kinv\": 0.013333333333333334}, {\"k\": 76, \"train_error\": 0.19365787212877555, \"test_error\": 0.19568412009404954, \"kinv\": 0.013157894736842105}, {\"k\": 77, \"train_error\": 0.19375920471281297, \"test_error\": 0.19545231400901503, \"kinv\": 0.012987012987012988}, {\"k\": 78, \"train_error\": 0.1938138822803771, \"test_error\": 0.19523746585602253, \"kinv\": 0.01282051282051282}, {\"k\": 79, \"train_error\": 0.19378017747618426, \"test_error\": 0.19523467745443474, \"kinv\": 0.012658227848101266}, {\"k\": 80, \"train_error\": 0.19372583762886597, \"test_error\": 0.19506013745704467, \"kinv\": 0.0125}, {\"k\": 81, \"train_error\": 0.19386640363158117, \"test_error\": 0.1950171821305842, \"kinv\": 0.012345679012345678}, {\"k\": 82, \"train_error\": 0.1939590143324114, \"test_error\": 0.19520576649065463, \"kinv\": 0.012195121951219513}, {\"k\": 83, \"train_error\": 0.19386825653127976, \"test_error\": 0.19503788349273382, \"kinv\": 0.012048192771084338}, {\"k\": 84, \"train_error\": 0.1937643184421535, \"test_error\": 0.19499672721322206, \"kinv\": 0.011904761904761904}, {\"k\": 85, \"train_error\": 0.1938700222356984, \"test_error\": 0.19534061047099252, \"kinv\": 0.011764705882352941}, {\"k\": 86, \"train_error\": 0.19392331974746263, \"test_error\": 0.1953967873411652, \"kinv\": 0.011627906976744186}, {\"k\": 87, \"train_error\": 0.1940099537859936, \"test_error\": 0.1954615475767271, \"kinv\": 0.011494252873563218}, {\"k\": 88, \"train_error\": 0.1939140112464855, \"test_error\": 0.19551507341455793, \"kinv\": 0.011363636363636364}, {\"k\": 89, \"train_error\": 0.19388538167496816, \"test_error\": 0.19524885130700026, \"kinv\": 0.011235955056179775}, {\"k\": 90, \"train_error\": 0.19389557082856054, \"test_error\": 0.195446735395189, \"kinv\": 0.011111111111111112}, {\"k\": 91, \"train_error\": 0.19400230353838605, \"test_error\": 0.1951493523658472, \"kinv\": 0.01098901098901099}, {\"k\": 92, \"train_error\": 0.19429814731809353, \"test_error\": 0.19521328253399073, \"kinv\": 0.010869565217391304}, {\"k\": 93, \"train_error\": 0.1942966411706019, \"test_error\": 0.19479547721982043, \"kinv\": 0.010752688172043012}, {\"k\": 94, \"train_error\": 0.19435914308693428, \"test_error\": 0.1951268553045258, \"kinv\": 0.010638297872340425}, {\"k\": 95, \"train_error\": 0.1943638090070537, \"test_error\": 0.1949900524507144, \"kinv\": 0.010526315789473684}, {\"k\": 96, \"train_error\": 0.19426993843069873, \"test_error\": 0.19476660939289805, \"kinv\": 0.010416666666666666}, {\"k\": 97, \"train_error\": 0.1942577142452262, \"test_error\": 0.19466291139688952, \"kinv\": 0.010309278350515464}, {\"k\": 98, \"train_error\": 0.19446489936180658, \"test_error\": 0.19445613296865136, \"kinv\": 0.01020408163265306}, {\"k\": 99, \"train_error\": 0.1944748168974973, \"test_error\": 0.19434031031969176, \"kinv\": 0.010101010101010102}, {\"k\": 100, \"train_error\": 0.19436855670103093, \"test_error\": 0.19419243986254295, \"kinv\": 0.01}, {\"k\": 101, \"train_error\": 0.1944153822598755, \"test_error\": 0.19431968970092883, \"kinv\": 0.009900990099009901}, {\"k\": 102, \"train_error\": 0.19446128967050738, \"test_error\": 0.19423387911865775, \"kinv\": 0.00980392156862745}, {\"k\": 103, \"train_error\": 0.19446251626463817, \"test_error\": 0.19412471224101693, \"kinv\": 0.009708737864077669}, {\"k\": 104, \"train_error\": 0.19441622059212266, \"test_error\": 0.1940754692043352, \"kinv\": 0.009615384615384616}, {\"k\": 105, \"train_error\": 0.19436876125020455, \"test_error\": 0.19403534609720177, \"kinv\": 0.009523809523809525}, {\"k\": 106, \"train_error\": 0.1944741619658951, \"test_error\": 0.19397977047267068, \"kinv\": 0.009433962264150943}, {\"k\": 107, \"train_error\": 0.1945073385361467, \"test_error\": 0.1938770594469602, \"kinv\": 0.009345794392523364}, {\"k\": 108, \"train_error\": 0.19444245577192315, \"test_error\": 0.19387966144838997, \"kinv\": 0.009259259259259259}, {\"k\": 109, \"train_error\": 0.19449698918629213, \"test_error\": 0.19401620479838583, \"kinv\": 0.009174311926605505}, {\"k\": 110, \"train_error\": 0.19446852546079352, \"test_error\": 0.19409559512652297, \"kinv\": 0.00909090909090909}, {\"k\": 111, \"train_error\": 0.19450055725828921, \"test_error\": 0.19428965047521748, \"kinv\": 0.009009009009009009}, {\"k\": 112, \"train_error\": 0.19455311119293078, \"test_error\": 0.19436518163966618, \"kinv\": 0.008928571428571428}, {\"k\": 113, \"train_error\": 0.1945914302223033, \"test_error\": 0.19442417054405012, \"kinv\": 0.008849557522123894}, {\"k\": 114, \"train_error\": 0.194608352926991, \"test_error\": 0.19436908422258395, \"kinv\": 0.008771929824561403}, {\"k\": 115, \"train_error\": 0.19468474525623786, \"test_error\": 0.19471836246825042, \"kinv\": 0.008695652173913044}, {\"k\": 116, \"train_error\": 0.194606144092902, \"test_error\": 0.19475056286289846, \"kinv\": 0.008620689655172414}, {\"k\": 117, \"train_error\": 0.19455825770258758, \"test_error\": 0.19460598584309927, \"kinv\": 0.008547008547008548}, {\"k\": 118, \"train_error\": 0.19459672957073795, \"test_error\": 0.19450026210029703, \"kinv\": 0.00847457627118644}, {\"k\": 119, \"train_error\": 0.19466884692021139, \"test_error\": 0.1944612896705074, \"kinv\": 0.008403361344537815}, {\"k\": 120, \"train_error\": 0.19471291523482243, \"test_error\": 0.19458046964490264, \"kinv\": 0.008333333333333333}, {\"k\": 121, \"train_error\": 0.19470832978330635, \"test_error\": 0.19465507937860324, \"kinv\": 0.008264462809917356}, {\"k\": 122, \"train_error\": 0.1946932567179314, \"test_error\": 0.194531294011605, \"kinv\": 0.00819672131147541}, {\"k\": 123, \"train_error\": 0.19466795183415755, \"test_error\": 0.19457016735115806, \"kinv\": 0.008130081300813009}, {\"k\": 124, \"train_error\": 0.19466037578982376, \"test_error\": 0.19443520673982928, \"kinv\": 0.008064516129032258}, {\"k\": 125, \"train_error\": 0.19465635738831613, \"test_error\": 0.1943986254295533, \"kinv\": 0.008}, {\"k\": 126, \"train_error\": 0.19471376752304587, \"test_error\": 0.19448535427916872, \"kinv\": 0.007936507936507936}, {\"k\": 127, \"train_error\": 0.19477872933409096, \"test_error\": 0.19434748491490111, \"kinv\": 0.007874015748031496}, {\"k\": 128, \"train_error\": 0.19488965850515463, \"test_error\": 0.19429231099656358, \"kinv\": 0.0078125}, {\"k\": 129, \"train_error\": 0.19498388342790166, \"test_error\": 0.1940714989744, \"kinv\": 0.007751937984496124}, {\"k\": 130, \"train_error\": 0.1949791831879461, \"test_error\": 0.19407216494845358, \"kinv\": 0.007692307692307693}, {\"k\": 131, \"train_error\": 0.19496799664227066, \"test_error\": 0.1940859368851814, \"kinv\": 0.007633587786259542}, {\"k\": 132, \"train_error\": 0.194947217015516, \"test_error\": 0.19393679058627514, \"kinv\": 0.007575757575757576}, {\"k\": 133, \"train_error\": 0.19490091207399943, \"test_error\": 0.19413223781102237, \"kinv\": 0.007518796992481203}, {\"k\": 134, \"train_error\": 0.19492101348925475, \"test_error\": 0.1941003744165769, \"kinv\": 0.007462686567164179}, {\"k\": 135, \"train_error\": 0.19492490772559504, \"test_error\": 0.19416443935344277, \"kinv\": 0.007407407407407408}, {\"k\": 136, \"train_error\": 0.194886105215282, \"test_error\": 0.194025419446129, \"kinv\": 0.007352941176470588}, {\"k\": 137, \"train_error\": 0.1949999372914942, \"test_error\": 0.1939699500840294, \"kinv\": 0.0072992700729927005}, {\"k\": 138, \"train_error\": 0.19495025897704069, \"test_error\": 0.1940460182279994, \"kinv\": 0.007246376811594203}, {\"k\": 139, \"train_error\": 0.1949754629286262, \"test_error\": 0.1938923088333457, \"kinv\": 0.007194244604316547}, {\"k\": 140, \"train_error\": 0.19495735149729995, \"test_error\": 0.1937346588119784, \"kinv\": 0.007142857142857143}, {\"k\": 141, \"train_error\": 0.19496691525919424, \"test_error\": 0.19360970973166627, \"kinv\": 0.0070921985815602835}, {\"k\": 142, \"train_error\": 0.19507012003291224, \"test_error\": 0.19369222206088765, \"kinv\": 0.007042253521126761}, {\"k\": 143, \"train_error\": 0.19520792781102056, \"test_error\": 0.19362338692235598, \"kinv\": 0.006993006993006993}, {\"k\": 144, \"train_error\": 0.19526626336387937, \"test_error\": 0.19362710003818254, \"kinv\": 0.006944444444444444}, {\"k\": 145, \"train_error\": 0.19530601967057706, \"test_error\": 0.19356558833985069, \"kinv\": 0.006896551724137931}, {\"k\": 146, \"train_error\": 0.19526579343783834, \"test_error\": 0.19351668785011533, \"kinv\": 0.00684931506849315}, {\"k\": 147, \"train_error\": 0.19529186244944713, \"test_error\": 0.19335156743109613, \"kinv\": 0.006802721088435374}, {\"k\": 148, \"train_error\": 0.19537417572211388, \"test_error\": 0.19330477384601097, \"kinv\": 0.006756756756756757}, {\"k\": 149, \"train_error\": 0.19531988745127887, \"test_error\": 0.19324707673147443, \"kinv\": 0.006711409395973154}]}}, {\"mode\": \"vega-lite\"});\n",
       "</script>"
      ],
      "text/plain": [
       "alt.LayerChart(...)"
      ]
     },
     "execution_count": 326,
     "metadata": {},
     "output_type": "execute_result"
    }
   ],
   "source": [
    "# plot for mean squared error for tops\n",
    "ctrain+ctest"
   ]
  },
  {
   "cell_type": "code",
   "execution_count": 327,
   "id": "b906690a",
   "metadata": {},
   "outputs": [],
   "source": [
    "df_bottoms = df_clean[['waist','height_inches']].copy()"
   ]
  },
  {
   "cell_type": "code",
   "execution_count": 328,
   "id": "e67e2cc4",
   "metadata": {},
   "outputs": [],
   "source": [
    "Z = df_bottoms"
   ]
  },
  {
   "cell_type": "code",
   "execution_count": 329,
   "id": "6089c410",
   "metadata": {},
   "outputs": [
    {
     "data": {
      "text/plain": [
       "StandardScaler()"
      ]
     },
     "execution_count": 329,
     "metadata": {},
     "output_type": "execute_result"
    }
   ],
   "source": [
    "scaler.fit(Z)"
   ]
  },
  {
   "cell_type": "code",
   "execution_count": 330,
   "id": "dffcd524",
   "metadata": {},
   "outputs": [],
   "source": [
    "Z_scaled = scaler.transform(Z)"
   ]
  },
  {
   "cell_type": "code",
   "execution_count": 331,
   "id": "078fa437",
   "metadata": {},
   "outputs": [],
   "source": [
    "Z_scaled_train, Z_scaled_test, y_train, y_test = train_test_split(Z_scaled,y,test_size=0.2)"
   ]
  },
  {
   "cell_type": "code",
   "execution_count": 332,
   "id": "f70d578f",
   "metadata": {},
   "outputs": [
    {
     "data": {
      "text/plain": [
       "KNeighborsRegressor(n_neighbors=15)"
      ]
     },
     "execution_count": 332,
     "metadata": {},
     "output_type": "execute_result"
    }
   ],
   "source": [
    "reg.fit(Z_scaled,y)"
   ]
  },
  {
   "cell_type": "code",
   "execution_count": 333,
   "id": "ae5fceb0",
   "metadata": {},
   "outputs": [
    {
     "data": {
      "text/plain": [
       "0.0597012218403971"
      ]
     },
     "execution_count": 333,
     "metadata": {},
     "output_type": "execute_result"
    }
   ],
   "source": [
    "mean_squared_error(reg.predict(Z_scaled_test),y_test)"
   ]
  },
  {
   "cell_type": "code",
   "execution_count": 334,
   "id": "f39df337",
   "metadata": {},
   "outputs": [
    {
     "data": {
      "text/plain": [
       "0.054334192439862546"
      ]
     },
     "execution_count": 334,
     "metadata": {},
     "output_type": "execute_result"
    }
   ],
   "source": [
    "mean_squared_error(reg.predict(Z_scaled_train),y_train)"
   ]
  },
  {
   "cell_type": "code",
   "execution_count": 339,
   "id": "52058776",
   "metadata": {},
   "outputs": [],
   "source": [
    "def get_scores_b(k):\n",
    "    reg = KNeighborsRegressor(n_neighbors=k)\n",
    "    reg.fit(Z_scaled_train, y_train)\n",
    "    train_error_b = mean_absolute_error(reg.predict(Z_scaled_train), y_train)\n",
    "    test_error_b = mean_absolute_error(reg.predict(Z_scaled_test), y_test)\n",
    "    return (train_error_b, test_error_b)\n",
    "\n",
    "df_scores_b = pd.DataFrame({\"k\":range(1,150),\"train_error_b\":np.nan,\"test_error_b\":np.nan})\n",
    "\n",
    "for i in df_scores.index:\n",
    "    df_scores_b.loc[i,[\"train_error_b\",\"test_error_b\"]] = get_scores_b(df_scores_b.loc[i,\"k\"])\n",
    "\n",
    "df_scores_b[\"kinv\"] = 1/df_scores_b.k"
   ]
  },
  {
   "cell_type": "code",
   "execution_count": 340,
   "id": "9de1eaaf",
   "metadata": {},
   "outputs": [],
   "source": [
    "ctrain_b = alt.Chart(df_scores).mark_line(color=\"#FF0000\").encode(\n",
    "    x = \"kinv\",\n",
    "    y = \"train_error\"\n",
    ")"
   ]
  },
  {
   "cell_type": "code",
   "execution_count": 341,
   "id": "f4b06157",
   "metadata": {},
   "outputs": [],
   "source": [
    "ctest_b = alt.Chart(df_scores).mark_line(color=\"#045FB4\").encode(\n",
    "    x = alt.X(\"kinv\",title='k-inverse'),\n",
    "    y = \"test_error\"\n",
    ")"
   ]
  },
  {
   "cell_type": "code",
   "execution_count": 342,
   "id": "27e2136f",
   "metadata": {},
   "outputs": [
    {
     "data": {
      "text/html": [
       "\n",
       "<div id=\"altair-viz-078b0755b90c442481b280611f8d87dc\"></div>\n",
       "<script type=\"text/javascript\">\n",
       "  var VEGA_DEBUG = (typeof VEGA_DEBUG == \"undefined\") ? {} : VEGA_DEBUG;\n",
       "  (function(spec, embedOpt){\n",
       "    let outputDiv = document.currentScript.previousElementSibling;\n",
       "    if (outputDiv.id !== \"altair-viz-078b0755b90c442481b280611f8d87dc\") {\n",
       "      outputDiv = document.getElementById(\"altair-viz-078b0755b90c442481b280611f8d87dc\");\n",
       "    }\n",
       "    const paths = {\n",
       "      \"vega\": \"https://cdn.jsdelivr.net/npm//vega@5?noext\",\n",
       "      \"vega-lib\": \"https://cdn.jsdelivr.net/npm//vega-lib?noext\",\n",
       "      \"vega-lite\": \"https://cdn.jsdelivr.net/npm//vega-lite@4.17.0?noext\",\n",
       "      \"vega-embed\": \"https://cdn.jsdelivr.net/npm//vega-embed@6?noext\",\n",
       "    };\n",
       "\n",
       "    function maybeLoadScript(lib, version) {\n",
       "      var key = `${lib.replace(\"-\", \"\")}_version`;\n",
       "      return (VEGA_DEBUG[key] == version) ?\n",
       "        Promise.resolve(paths[lib]) :\n",
       "        new Promise(function(resolve, reject) {\n",
       "          var s = document.createElement('script');\n",
       "          document.getElementsByTagName(\"head\")[0].appendChild(s);\n",
       "          s.async = true;\n",
       "          s.onload = () => {\n",
       "            VEGA_DEBUG[key] = version;\n",
       "            return resolve(paths[lib]);\n",
       "          };\n",
       "          s.onerror = () => reject(`Error loading script: ${paths[lib]}`);\n",
       "          s.src = paths[lib];\n",
       "        });\n",
       "    }\n",
       "\n",
       "    function showError(err) {\n",
       "      outputDiv.innerHTML = `<div class=\"error\" style=\"color:red;\">${err}</div>`;\n",
       "      throw err;\n",
       "    }\n",
       "\n",
       "    function displayChart(vegaEmbed) {\n",
       "      vegaEmbed(outputDiv, spec, embedOpt)\n",
       "        .catch(err => showError(`Javascript Error: ${err.message}<br>This usually means there's a typo in your chart specification. See the javascript console for the full traceback.`));\n",
       "    }\n",
       "\n",
       "    if(typeof define === \"function\" && define.amd) {\n",
       "      requirejs.config({paths});\n",
       "      require([\"vega-embed\"], displayChart, err => showError(`Error loading script: ${err.message}`));\n",
       "    } else {\n",
       "      maybeLoadScript(\"vega\", \"5\")\n",
       "        .then(() => maybeLoadScript(\"vega-lite\", \"4.17.0\"))\n",
       "        .then(() => maybeLoadScript(\"vega-embed\", \"6\"))\n",
       "        .catch(showError)\n",
       "        .then(() => displayChart(vegaEmbed));\n",
       "    }\n",
       "  })({\"config\": {\"view\": {\"continuousWidth\": 400, \"continuousHeight\": 300}}, \"layer\": [{\"mark\": {\"type\": \"line\", \"color\": \"#FF0000\"}, \"encoding\": {\"x\": {\"field\": \"kinv\", \"type\": \"quantitative\"}, \"y\": {\"field\": \"train_error\", \"type\": \"quantitative\"}}}, {\"mark\": {\"type\": \"line\", \"color\": \"#045FB4\"}, \"encoding\": {\"x\": {\"field\": \"kinv\", \"title\": \"k-inverse\", \"type\": \"quantitative\"}, \"y\": {\"field\": \"test_error\", \"type\": \"quantitative\"}}}], \"data\": {\"name\": \"data-9de878e85f28d0b1ff9a6267a856ec53\"}, \"$schema\": \"https://vega.github.io/schema/vega-lite/v4.17.0.json\", \"datasets\": {\"data-9de878e85f28d0b1ff9a6267a856ec53\": [{\"k\": 1, \"train_error\": 0.08290378006872852, \"test_error\": 0.2104810996563574, \"kinv\": 1.0}, {\"k\": 2, \"train_error\": 0.13015463917525774, \"test_error\": 0.22207903780068727, \"kinv\": 0.5}, {\"k\": 3, \"train_error\": 0.15270618556701032, \"test_error\": 0.21678121420389465, \"kinv\": 0.3333333333333333}, {\"k\": 4, \"train_error\": 0.164465206185567, \"test_error\": 0.21563573883161513, \"kinv\": 0.25}, {\"k\": 5, \"train_error\": 0.17216494845360825, \"test_error\": 0.2134020618556701, \"kinv\": 0.2}, {\"k\": 6, \"train_error\": 0.17608104238258876, \"test_error\": 0.21191294387170675, \"kinv\": 0.16666666666666666}, {\"k\": 7, \"train_error\": 0.17893961708394698, \"test_error\": 0.20655375552282768, \"kinv\": 0.14285714285714285}, {\"k\": 8, \"train_error\": 0.18282860824742267, \"test_error\": 0.20393041237113402, \"kinv\": 0.125}, {\"k\": 9, \"train_error\": 0.1859249713631157, \"test_error\": 0.20112638411607484, \"kinv\": 0.1111111111111111}, {\"k\": 10, \"train_error\": 0.1870274914089347, \"test_error\": 0.20163230240549826, \"kinv\": 0.1}, {\"k\": 11, \"train_error\": 0.18908153701968136, \"test_error\": 0.20181193377069664, \"kinv\": 0.09090909090909091}, {\"k\": 12, \"train_error\": 0.18934349942726234, \"test_error\": 0.20210481099656358, \"kinv\": 0.08333333333333333}, {\"k\": 13, \"train_error\": 0.18997819191118162, \"test_error\": 0.20083267248215703, \"kinv\": 0.07692307692307693}, {\"k\": 14, \"train_error\": 0.19003129602356406, \"test_error\": 0.20072410407461955, \"kinv\": 0.07142857142857142}, {\"k\": 15, \"train_error\": 0.19032073310423825, \"test_error\": 0.20148911798396335, \"kinv\": 0.06666666666666667}, {\"k\": 16, \"train_error\": 0.19107066151202748, \"test_error\": 0.20006443298969073, \"kinv\": 0.0625}, {\"k\": 17, \"train_error\": 0.19113856882959368, \"test_error\": 0.20108146351324035, \"kinv\": 0.058823529411764705}, {\"k\": 18, \"train_error\": 0.1919745131729668, \"test_error\": 0.20146048109965636, \"kinv\": 0.05555555555555555}, {\"k\": 19, \"train_error\": 0.19242855850967627, \"test_error\": 0.20062398263700487, \"kinv\": 0.05263157894736842}, {\"k\": 20, \"train_error\": 0.19204252577319586, \"test_error\": 0.20060137457044674, \"kinv\": 0.05}, {\"k\": 21, \"train_error\": 0.1919182621502209, \"test_error\": 0.2005809196530846, \"kinv\": 0.047619047619047616}, {\"k\": 22, \"train_error\": 0.19284989065916902, \"test_error\": 0.19900031240237426, \"kinv\": 0.045454545454545456}, {\"k\": 23, \"train_error\": 0.1930468399820708, \"test_error\": 0.1977065590915882, \"kinv\": 0.043478260869565216}, {\"k\": 24, \"train_error\": 0.19356743986254296, \"test_error\": 0.19802405498281786, \"kinv\": 0.041666666666666664}, {\"k\": 25, \"train_error\": 0.19348797250859107, \"test_error\": 0.19845360824742267, \"kinv\": 0.04}, {\"k\": 26, \"train_error\": 0.19362113402061856, \"test_error\": 0.19802405498281786, \"kinv\": 0.038461538461538464}, {\"k\": 27, \"train_error\": 0.19413421153111876, \"test_error\": 0.19864452080946926, \"kinv\": 0.037037037037037035}, {\"k\": 28, \"train_error\": 0.19411205203730975, \"test_error\": 0.19854565537555227, \"kinv\": 0.03571428571428571}, {\"k\": 29, \"train_error\": 0.19470612631828416, \"test_error\": 0.19777224789667022, \"kinv\": 0.034482758620689655}, {\"k\": 30, \"train_error\": 0.19455183276059562, \"test_error\": 0.19871134020618555, \"kinv\": 0.03333333333333333}, {\"k\": 31, \"train_error\": 0.19428971289214053, \"test_error\": 0.1981487639951225, \"kinv\": 0.03225806451612903}, {\"k\": 32, \"train_error\": 0.19437956400343642, \"test_error\": 0.19837306701030927, \"kinv\": 0.03125}, {\"k\": 33, \"train_error\": 0.19470477975632614, \"test_error\": 0.19824533999791732, \"kinv\": 0.030303030303030304}, {\"k\": 34, \"train_error\": 0.1946950171821306, \"test_error\": 0.1985041439256115, \"kinv\": 0.029411764705882353}, {\"k\": 35, \"train_error\": 0.1949251350024546, \"test_error\": 0.19808541973490426, \"kinv\": 0.02857142857142857}, {\"k\": 36, \"train_error\": 0.19513650248186332, \"test_error\": 0.19754677357770142, \"kinv\": 0.027777777777777776}, {\"k\": 37, \"train_error\": 0.1948778675582799, \"test_error\": 0.19750162533667687, \"kinv\": 0.02702702702702703}, {\"k\": 38, \"train_error\": 0.19463284499909567, \"test_error\": 0.19693886778802677, \"kinv\": 0.02631578947368421}, {\"k\": 39, \"train_error\": 0.19458212177284342, \"test_error\": 0.19715393426733635, \"kinv\": 0.02564102564102564}, {\"k\": 40, \"train_error\": 0.19481851374570447, \"test_error\": 0.19699312714776634, \"kinv\": 0.025}, {\"k\": 41, \"train_error\": 0.19445666750481938, \"test_error\": 0.19698684100243066, \"kinv\": 0.024390243902439025}, {\"k\": 42, \"train_error\": 0.19456717394861725, \"test_error\": 0.19706267386679757, \"kinv\": 0.023809523809523808}, {\"k\": 43, \"train_error\": 0.19453268600655318, \"test_error\": 0.19573643410852712, \"kinv\": 0.023255813953488372}, {\"k\": 44, \"train_error\": 0.19408973758200565, \"test_error\": 0.19601296469853172, \"kinv\": 0.022727272727272728}, {\"k\": 45, \"train_error\": 0.19429648720885834, \"test_error\": 0.19545628102329135, \"kinv\": 0.022222222222222223}, {\"k\": 46, \"train_error\": 0.19431682354698937, \"test_error\": 0.19576423128641862, \"kinv\": 0.021739130434782608}, {\"k\": 47, \"train_error\": 0.19420377275718362, \"test_error\": 0.19492578781896613, \"kinv\": 0.02127659574468085}, {\"k\": 48, \"train_error\": 0.19425651489117982, \"test_error\": 0.19489189576174112, \"kinv\": 0.020833333333333332}, {\"k\": 49, \"train_error\": 0.19434216985763378, \"test_error\": 0.1953678378567922, \"kinv\": 0.02040816326530612}, {\"k\": 50, \"train_error\": 0.19452319587628866, \"test_error\": 0.19539518900343641, \"kinv\": 0.02}, {\"k\": 51, \"train_error\": 0.19439812007277135, \"test_error\": 0.1952193248433394, \"kinv\": 0.0196078431372549}, {\"k\": 52, \"train_error\": 0.1942076394395982, \"test_error\": 0.19546325667459685, \"kinv\": 0.019230769230769232}, {\"k\": 53, \"train_error\": 0.1942593853335927, \"test_error\": 0.19526032548790767, \"kinv\": 0.018867924528301886}, {\"k\": 54, \"train_error\": 0.19400693648975437, \"test_error\": 0.19536718849433626, \"kinv\": 0.018518518518518517}, {\"k\": 55, \"train_error\": 0.19404092471102782, \"test_error\": 0.1949390815370197, \"kinv\": 0.01818181818181818}, {\"k\": 56, \"train_error\": 0.19396631075110457, \"test_error\": 0.194602970054001, \"kinv\": 0.017857142857142856}, {\"k\": 57, \"train_error\": 0.19399981913546754, \"test_error\": 0.1948664616868632, \"kinv\": 0.017543859649122806}, {\"k\": 58, \"train_error\": 0.19375814669984595, \"test_error\": 0.1944691314136746, \"kinv\": 0.017241379310344827}, {\"k\": 59, \"train_error\": 0.19399062263381675, \"test_error\": 0.19478420408876465, \"kinv\": 0.01694915254237288}, {\"k\": 60, \"train_error\": 0.19411154066437572, \"test_error\": 0.1947594501718213, \"kinv\": 0.016666666666666666}, {\"k\": 61, \"train_error\": 0.19410878260379696, \"test_error\": 0.1951157681257394, \"kinv\": 0.01639344262295082}, {\"k\": 62, \"train_error\": 0.19400565347522447, \"test_error\": 0.19519731737057974, \"kinv\": 0.016129032258064516}, {\"k\": 63, \"train_error\": 0.19384784268804886, \"test_error\": 0.19531718758522884, \"kinv\": 0.015873015873015872}, {\"k\": 64, \"train_error\": 0.19400034901202748, \"test_error\": 0.19546015893470792, \"kinv\": 0.015625}, {\"k\": 65, \"train_error\": 0.19408868622786146, \"test_error\": 0.19544012688342585, \"kinv\": 0.015384615384615385}, {\"k\": 66, \"train_error\": 0.19406370405081744, \"test_error\": 0.19575913776944706, \"kinv\": 0.015151515151515152}, {\"k\": 67, \"train_error\": 0.1939048315125404, \"test_error\": 0.19551725906549727, \"kinv\": 0.014925373134328358}, {\"k\": 68, \"train_error\": 0.19409806448352537, \"test_error\": 0.1956236102688498, \"kinv\": 0.014705882352941176}, {\"k\": 69, \"train_error\": 0.19396197519796804, \"test_error\": 0.1956895263708352, \"kinv\": 0.014492753623188406}, {\"k\": 70, \"train_error\": 0.1938082965144821, \"test_error\": 0.1958762886597938, \"kinv\": 0.014285714285714285}, {\"k\": 71, \"train_error\": 0.1937708726586322, \"test_error\": 0.1960335898552829, \"kinv\": 0.014084507042253521}, {\"k\": 72, \"train_error\": 0.19375238640702558, \"test_error\": 0.19591208476517757, \"kinv\": 0.013888888888888888}, {\"k\": 73, \"train_error\": 0.19377265452148942, \"test_error\": 0.19566445417313938, \"kinv\": 0.0136986301369863}, {\"k\": 74, \"train_error\": 0.19371110801523173, \"test_error\": 0.19593433639825392, \"kinv\": 0.013513513513513514}, {\"k\": 75, \"train_error\": 0.19371420389461627, \"test_error\": 0.19607101947308134, \"kinv\": 0.013333333333333334}, {\"k\": 76, \"train_error\": 0.19365787212877555, \"test_error\": 0.19568412009404954, \"kinv\": 0.013157894736842105}, {\"k\": 77, \"train_error\": 0.19375920471281297, \"test_error\": 0.19545231400901503, \"kinv\": 0.012987012987012988}, {\"k\": 78, \"train_error\": 0.1938138822803771, \"test_error\": 0.19523746585602253, \"kinv\": 0.01282051282051282}, {\"k\": 79, \"train_error\": 0.19378017747618426, \"test_error\": 0.19523467745443474, \"kinv\": 0.012658227848101266}, {\"k\": 80, \"train_error\": 0.19372583762886597, \"test_error\": 0.19506013745704467, \"kinv\": 0.0125}, {\"k\": 81, \"train_error\": 0.19386640363158117, \"test_error\": 0.1950171821305842, \"kinv\": 0.012345679012345678}, {\"k\": 82, \"train_error\": 0.1939590143324114, \"test_error\": 0.19520576649065463, \"kinv\": 0.012195121951219513}, {\"k\": 83, \"train_error\": 0.19386825653127976, \"test_error\": 0.19503788349273382, \"kinv\": 0.012048192771084338}, {\"k\": 84, \"train_error\": 0.1937643184421535, \"test_error\": 0.19499672721322206, \"kinv\": 0.011904761904761904}, {\"k\": 85, \"train_error\": 0.1938700222356984, \"test_error\": 0.19534061047099252, \"kinv\": 0.011764705882352941}, {\"k\": 86, \"train_error\": 0.19392331974746263, \"test_error\": 0.1953967873411652, \"kinv\": 0.011627906976744186}, {\"k\": 87, \"train_error\": 0.1940099537859936, \"test_error\": 0.1954615475767271, \"kinv\": 0.011494252873563218}, {\"k\": 88, \"train_error\": 0.1939140112464855, \"test_error\": 0.19551507341455793, \"kinv\": 0.011363636363636364}, {\"k\": 89, \"train_error\": 0.19388538167496816, \"test_error\": 0.19524885130700026, \"kinv\": 0.011235955056179775}, {\"k\": 90, \"train_error\": 0.19389557082856054, \"test_error\": 0.195446735395189, \"kinv\": 0.011111111111111112}, {\"k\": 91, \"train_error\": 0.19400230353838605, \"test_error\": 0.1951493523658472, \"kinv\": 0.01098901098901099}, {\"k\": 92, \"train_error\": 0.19429814731809353, \"test_error\": 0.19521328253399073, \"kinv\": 0.010869565217391304}, {\"k\": 93, \"train_error\": 0.1942966411706019, \"test_error\": 0.19479547721982043, \"kinv\": 0.010752688172043012}, {\"k\": 94, \"train_error\": 0.19435914308693428, \"test_error\": 0.1951268553045258, \"kinv\": 0.010638297872340425}, {\"k\": 95, \"train_error\": 0.1943638090070537, \"test_error\": 0.1949900524507144, \"kinv\": 0.010526315789473684}, {\"k\": 96, \"train_error\": 0.19426993843069873, \"test_error\": 0.19476660939289805, \"kinv\": 0.010416666666666666}, {\"k\": 97, \"train_error\": 0.1942577142452262, \"test_error\": 0.19466291139688952, \"kinv\": 0.010309278350515464}, {\"k\": 98, \"train_error\": 0.19446489936180658, \"test_error\": 0.19445613296865136, \"kinv\": 0.01020408163265306}, {\"k\": 99, \"train_error\": 0.1944748168974973, \"test_error\": 0.19434031031969176, \"kinv\": 0.010101010101010102}, {\"k\": 100, \"train_error\": 0.19436855670103093, \"test_error\": 0.19419243986254295, \"kinv\": 0.01}, {\"k\": 101, \"train_error\": 0.1944153822598755, \"test_error\": 0.19431968970092883, \"kinv\": 0.009900990099009901}, {\"k\": 102, \"train_error\": 0.19446128967050738, \"test_error\": 0.19423387911865775, \"kinv\": 0.00980392156862745}, {\"k\": 103, \"train_error\": 0.19446251626463817, \"test_error\": 0.19412471224101693, \"kinv\": 0.009708737864077669}, {\"k\": 104, \"train_error\": 0.19441622059212266, \"test_error\": 0.1940754692043352, \"kinv\": 0.009615384615384616}, {\"k\": 105, \"train_error\": 0.19436876125020455, \"test_error\": 0.19403534609720177, \"kinv\": 0.009523809523809525}, {\"k\": 106, \"train_error\": 0.1944741619658951, \"test_error\": 0.19397977047267068, \"kinv\": 0.009433962264150943}, {\"k\": 107, \"train_error\": 0.1945073385361467, \"test_error\": 0.1938770594469602, \"kinv\": 0.009345794392523364}, {\"k\": 108, \"train_error\": 0.19444245577192315, \"test_error\": 0.19387966144838997, \"kinv\": 0.009259259259259259}, {\"k\": 109, \"train_error\": 0.19449698918629213, \"test_error\": 0.19401620479838583, \"kinv\": 0.009174311926605505}, {\"k\": 110, \"train_error\": 0.19446852546079352, \"test_error\": 0.19409559512652297, \"kinv\": 0.00909090909090909}, {\"k\": 111, \"train_error\": 0.19450055725828921, \"test_error\": 0.19428965047521748, \"kinv\": 0.009009009009009009}, {\"k\": 112, \"train_error\": 0.19455311119293078, \"test_error\": 0.19436518163966618, \"kinv\": 0.008928571428571428}, {\"k\": 113, \"train_error\": 0.1945914302223033, \"test_error\": 0.19442417054405012, \"kinv\": 0.008849557522123894}, {\"k\": 114, \"train_error\": 0.194608352926991, \"test_error\": 0.19436908422258395, \"kinv\": 0.008771929824561403}, {\"k\": 115, \"train_error\": 0.19468474525623786, \"test_error\": 0.19471836246825042, \"kinv\": 0.008695652173913044}, {\"k\": 116, \"train_error\": 0.194606144092902, \"test_error\": 0.19475056286289846, \"kinv\": 0.008620689655172414}, {\"k\": 117, \"train_error\": 0.19455825770258758, \"test_error\": 0.19460598584309927, \"kinv\": 0.008547008547008548}, {\"k\": 118, \"train_error\": 0.19459672957073795, \"test_error\": 0.19450026210029703, \"kinv\": 0.00847457627118644}, {\"k\": 119, \"train_error\": 0.19466884692021139, \"test_error\": 0.1944612896705074, \"kinv\": 0.008403361344537815}, {\"k\": 120, \"train_error\": 0.19471291523482243, \"test_error\": 0.19458046964490264, \"kinv\": 0.008333333333333333}, {\"k\": 121, \"train_error\": 0.19470832978330635, \"test_error\": 0.19465507937860324, \"kinv\": 0.008264462809917356}, {\"k\": 122, \"train_error\": 0.1946932567179314, \"test_error\": 0.194531294011605, \"kinv\": 0.00819672131147541}, {\"k\": 123, \"train_error\": 0.19466795183415755, \"test_error\": 0.19457016735115806, \"kinv\": 0.008130081300813009}, {\"k\": 124, \"train_error\": 0.19466037578982376, \"test_error\": 0.19443520673982928, \"kinv\": 0.008064516129032258}, {\"k\": 125, \"train_error\": 0.19465635738831613, \"test_error\": 0.1943986254295533, \"kinv\": 0.008}, {\"k\": 126, \"train_error\": 0.19471376752304587, \"test_error\": 0.19448535427916872, \"kinv\": 0.007936507936507936}, {\"k\": 127, \"train_error\": 0.19477872933409096, \"test_error\": 0.19434748491490111, \"kinv\": 0.007874015748031496}, {\"k\": 128, \"train_error\": 0.19488965850515463, \"test_error\": 0.19429231099656358, \"kinv\": 0.0078125}, {\"k\": 129, \"train_error\": 0.19498388342790166, \"test_error\": 0.1940714989744, \"kinv\": 0.007751937984496124}, {\"k\": 130, \"train_error\": 0.1949791831879461, \"test_error\": 0.19407216494845358, \"kinv\": 0.007692307692307693}, {\"k\": 131, \"train_error\": 0.19496799664227066, \"test_error\": 0.1940859368851814, \"kinv\": 0.007633587786259542}, {\"k\": 132, \"train_error\": 0.194947217015516, \"test_error\": 0.19393679058627514, \"kinv\": 0.007575757575757576}, {\"k\": 133, \"train_error\": 0.19490091207399943, \"test_error\": 0.19413223781102237, \"kinv\": 0.007518796992481203}, {\"k\": 134, \"train_error\": 0.19492101348925475, \"test_error\": 0.1941003744165769, \"kinv\": 0.007462686567164179}, {\"k\": 135, \"train_error\": 0.19492490772559504, \"test_error\": 0.19416443935344277, \"kinv\": 0.007407407407407408}, {\"k\": 136, \"train_error\": 0.194886105215282, \"test_error\": 0.194025419446129, \"kinv\": 0.007352941176470588}, {\"k\": 137, \"train_error\": 0.1949999372914942, \"test_error\": 0.1939699500840294, \"kinv\": 0.0072992700729927005}, {\"k\": 138, \"train_error\": 0.19495025897704069, \"test_error\": 0.1940460182279994, \"kinv\": 0.007246376811594203}, {\"k\": 139, \"train_error\": 0.1949754629286262, \"test_error\": 0.1938923088333457, \"kinv\": 0.007194244604316547}, {\"k\": 140, \"train_error\": 0.19495735149729995, \"test_error\": 0.1937346588119784, \"kinv\": 0.007142857142857143}, {\"k\": 141, \"train_error\": 0.19496691525919424, \"test_error\": 0.19360970973166627, \"kinv\": 0.0070921985815602835}, {\"k\": 142, \"train_error\": 0.19507012003291224, \"test_error\": 0.19369222206088765, \"kinv\": 0.007042253521126761}, {\"k\": 143, \"train_error\": 0.19520792781102056, \"test_error\": 0.19362338692235598, \"kinv\": 0.006993006993006993}, {\"k\": 144, \"train_error\": 0.19526626336387937, \"test_error\": 0.19362710003818254, \"kinv\": 0.006944444444444444}, {\"k\": 145, \"train_error\": 0.19530601967057706, \"test_error\": 0.19356558833985069, \"kinv\": 0.006896551724137931}, {\"k\": 146, \"train_error\": 0.19526579343783834, \"test_error\": 0.19351668785011533, \"kinv\": 0.00684931506849315}, {\"k\": 147, \"train_error\": 0.19529186244944713, \"test_error\": 0.19335156743109613, \"kinv\": 0.006802721088435374}, {\"k\": 148, \"train_error\": 0.19537417572211388, \"test_error\": 0.19330477384601097, \"kinv\": 0.006756756756756757}, {\"k\": 149, \"train_error\": 0.19531988745127887, \"test_error\": 0.19324707673147443, \"kinv\": 0.006711409395973154}]}}, {\"mode\": \"vega-lite\"});\n",
       "</script>"
      ],
      "text/plain": [
       "alt.LayerChart(...)"
      ]
     },
     "execution_count": 342,
     "metadata": {},
     "output_type": "execute_result"
    }
   ],
   "source": [
    "ctrain_b+ctest_b"
   ]
  },
  {
   "cell_type": "code",
   "execution_count": null,
   "id": "833a9243",
   "metadata": {},
   "outputs": [],
   "source": [
    "df_dress = df_clean[['waist','height_inches','cup size', 'bra size']].copy()"
   ]
  },
  {
   "cell_type": "code",
   "execution_count": 343,
   "id": "433cc04c",
   "metadata": {
    "scrolled": true
   },
   "outputs": [
    {
     "ename": "NameError",
     "evalue": "name 'df_ow' is not defined",
     "output_type": "error",
     "traceback": [
      "\u001b[0;31m---------------------------------------------------------------------------\u001b[0m",
      "\u001b[0;31mNameError\u001b[0m                                 Traceback (most recent call last)",
      "\u001b[0;32m/var/folders/jl/hp6ttjss3k567708q05n4drr0000gn/T/ipykernel_11845/558359771.py\u001b[0m in \u001b[0;36m<module>\u001b[0;34m\u001b[0m\n\u001b[0;32m----> 1\u001b[0;31m \u001b[0mW\u001b[0m \u001b[0;34m=\u001b[0m \u001b[0mdf_ow\u001b[0m\u001b[0;34m\u001b[0m\u001b[0;34m\u001b[0m\u001b[0m\n\u001b[0m",
      "\u001b[0;31mNameError\u001b[0m: name 'df_ow' is not defined"
     ]
    }
   ],
   "source": []
  },
  {
   "cell_type": "code",
   "execution_count": null,
   "id": "6863c4b8",
   "metadata": {},
   "outputs": [],
   "source": []
  }
 ],
 "metadata": {
  "kernelspec": {
   "display_name": "Python 3 (ipykernel)",
   "language": "python",
   "name": "python3"
  },
  "language_info": {
   "codemirror_mode": {
    "name": "ipython",
    "version": 3
   },
   "file_extension": ".py",
   "mimetype": "text/x-python",
   "name": "python",
   "nbconvert_exporter": "python",
   "pygments_lexer": "ipython3",
   "version": "3.9.13"
  }
 },
 "nbformat": 4,
 "nbformat_minor": 5
}
