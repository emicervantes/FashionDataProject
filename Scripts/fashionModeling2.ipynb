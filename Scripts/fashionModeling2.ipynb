{
 "cells": [
  {
   "cell_type": "code",
   "execution_count": 344,
   "id": "66f72db9",
   "metadata": {},
   "outputs": [],
   "source": [
    "import pandas as pd\n",
    "import numpy as np\n",
    "import matplotlib.pyplot as plt\n",
    "import altair as alt\n",
    "from sklearn.decomposition import TruncatedSVD\n",
    "from sklearn.linear_model import LinearRegression\n",
    "from sklearn.preprocessing import StandardScaler\n",
    "from sklearn.neighbors import KNeighborsRegressor\n",
    "from sklearn.model_selection import train_test_split\n",
    "from sklearn.metrics import mean_squared_error, mean_absolute_error"
   ]
  },
  {
   "cell_type": "markdown",
   "id": "374c1f19",
   "metadata": {},
   "source": [
    "### Load Data"
   ]
  },
  {
   "cell_type": "code",
   "execution_count": 345,
   "id": "03589f15",
   "metadata": {},
   "outputs": [
    {
     "data": {
      "text/html": [
       "<div>\n",
       "<style scoped>\n",
       "    .dataframe tbody tr th:only-of-type {\n",
       "        vertical-align: middle;\n",
       "    }\n",
       "\n",
       "    .dataframe tbody tr th {\n",
       "        vertical-align: top;\n",
       "    }\n",
       "\n",
       "    .dataframe thead th {\n",
       "        text-align: right;\n",
       "    }\n",
       "</style>\n",
       "<table border=\"1\" class=\"dataframe\">\n",
       "  <thead>\n",
       "    <tr style=\"text-align: right;\">\n",
       "      <th></th>\n",
       "      <th>Unnamed: 0.1</th>\n",
       "      <th>Unnamed: 0</th>\n",
       "      <th>item_id</th>\n",
       "      <th>category</th>\n",
       "      <th>waist</th>\n",
       "      <th>size</th>\n",
       "      <th>quality</th>\n",
       "      <th>cup size</th>\n",
       "      <th>hips</th>\n",
       "      <th>bra size</th>\n",
       "      <th>height_inches</th>\n",
       "      <th>length</th>\n",
       "      <th>fit</th>\n",
       "      <th>review_summary</th>\n",
       "      <th>review_text</th>\n",
       "      <th>polarity</th>\n",
       "      <th>reviewLen</th>\n",
       "      <th>wordCount</th>\n",
       "    </tr>\n",
       "  </thead>\n",
       "  <tbody>\n",
       "    <tr>\n",
       "      <th>0</th>\n",
       "      <td>0</td>\n",
       "      <td>8490</td>\n",
       "      <td>159891</td>\n",
       "      <td>1</td>\n",
       "      <td>26.0</td>\n",
       "      <td>1</td>\n",
       "      <td>5.0</td>\n",
       "      <td>2.0</td>\n",
       "      <td>38.0</td>\n",
       "      <td>32.0</td>\n",
       "      <td>64.0</td>\n",
       "      <td>5.0</td>\n",
       "      <td>3</td>\n",
       "      <td>This dress. Is so amazing</td>\n",
       "      <td>This dress. Is so amazing. It just arrived tod...</td>\n",
       "      <td>0.392500</td>\n",
       "      <td>301</td>\n",
       "      <td>58</td>\n",
       "    </tr>\n",
       "    <tr>\n",
       "      <th>1</th>\n",
       "      <td>1</td>\n",
       "      <td>8493</td>\n",
       "      <td>159891</td>\n",
       "      <td>1</td>\n",
       "      <td>31.0</td>\n",
       "      <td>8</td>\n",
       "      <td>3.0</td>\n",
       "      <td>5.0</td>\n",
       "      <td>41.0</td>\n",
       "      <td>36.0</td>\n",
       "      <td>62.0</td>\n",
       "      <td>5.0</td>\n",
       "      <td>3</td>\n",
       "      <td>This dress looks great on</td>\n",
       "      <td>This dress looks great on. I'm a pretty curren...</td>\n",
       "      <td>0.186250</td>\n",
       "      <td>273</td>\n",
       "      <td>57</td>\n",
       "    </tr>\n",
       "    <tr>\n",
       "      <th>2</th>\n",
       "      <td>2</td>\n",
       "      <td>8521</td>\n",
       "      <td>160625</td>\n",
       "      <td>1</td>\n",
       "      <td>32.0</td>\n",
       "      <td>5</td>\n",
       "      <td>5.0</td>\n",
       "      <td>2.0</td>\n",
       "      <td>NaN</td>\n",
       "      <td>32.0</td>\n",
       "      <td>65.0</td>\n",
       "      <td>5.0</td>\n",
       "      <td>1</td>\n",
       "      <td>Used as my wedding dress</td>\n",
       "      <td>Used as my wedding dress and I LOVED it!PROS  ...</td>\n",
       "      <td>0.172436</td>\n",
       "      <td>452</td>\n",
       "      <td>85</td>\n",
       "    </tr>\n",
       "    <tr>\n",
       "      <th>3</th>\n",
       "      <td>3</td>\n",
       "      <td>8523</td>\n",
       "      <td>160625</td>\n",
       "      <td>1</td>\n",
       "      <td>32.0</td>\n",
       "      <td>11</td>\n",
       "      <td>4.0</td>\n",
       "      <td>5.0</td>\n",
       "      <td>43.0</td>\n",
       "      <td>38.0</td>\n",
       "      <td>67.0</td>\n",
       "      <td>5.0</td>\n",
       "      <td>2</td>\n",
       "      <td>I love this dress, it's b</td>\n",
       "      <td>I love this dress, it's beautiful ! Wore this ...</td>\n",
       "      <td>0.413839</td>\n",
       "      <td>581</td>\n",
       "      <td>125</td>\n",
       "    </tr>\n",
       "    <tr>\n",
       "      <th>4</th>\n",
       "      <td>4</td>\n",
       "      <td>8524</td>\n",
       "      <td>160625</td>\n",
       "      <td>1</td>\n",
       "      <td>28.0</td>\n",
       "      <td>7</td>\n",
       "      <td>5.0</td>\n",
       "      <td>3.0</td>\n",
       "      <td>32.0</td>\n",
       "      <td>34.0</td>\n",
       "      <td>65.0</td>\n",
       "      <td>5.0</td>\n",
       "      <td>3</td>\n",
       "      <td>I love this dress!!! I bo</td>\n",
       "      <td>I love this dress!!! I bought it specifically ...</td>\n",
       "      <td>0.400769</td>\n",
       "      <td>627</td>\n",
       "      <td>117</td>\n",
       "    </tr>\n",
       "  </tbody>\n",
       "</table>\n",
       "</div>"
      ],
      "text/plain": [
       "   Unnamed: 0.1  Unnamed: 0  item_id  category  waist  size  quality  \\\n",
       "0             0        8490   159891         1   26.0     1      5.0   \n",
       "1             1        8493   159891         1   31.0     8      3.0   \n",
       "2             2        8521   160625         1   32.0     5      5.0   \n",
       "3             3        8523   160625         1   32.0    11      4.0   \n",
       "4             4        8524   160625         1   28.0     7      5.0   \n",
       "\n",
       "   cup size  hips  bra size  height_inches  length  fit  \\\n",
       "0       2.0  38.0      32.0           64.0     5.0    3   \n",
       "1       5.0  41.0      36.0           62.0     5.0    3   \n",
       "2       2.0   NaN      32.0           65.0     5.0    1   \n",
       "3       5.0  43.0      38.0           67.0     5.0    2   \n",
       "4       3.0  32.0      34.0           65.0     5.0    3   \n",
       "\n",
       "              review_summary  \\\n",
       "0  This dress. Is so amazing   \n",
       "1  This dress looks great on   \n",
       "2   Used as my wedding dress   \n",
       "3  I love this dress, it's b   \n",
       "4  I love this dress!!! I bo   \n",
       "\n",
       "                                         review_text  polarity  reviewLen  \\\n",
       "0  This dress. Is so amazing. It just arrived tod...  0.392500        301   \n",
       "1  This dress looks great on. I'm a pretty curren...  0.186250        273   \n",
       "2  Used as my wedding dress and I LOVED it!PROS  ...  0.172436        452   \n",
       "3  I love this dress, it's beautiful ! Wore this ...  0.413839        581   \n",
       "4  I love this dress!!! I bought it specifically ...  0.400769        627   \n",
       "\n",
       "   wordCount  \n",
       "0         58  \n",
       "1         57  \n",
       "2         85  \n",
       "3        125  \n",
       "4        117  "
      ]
     },
     "execution_count": 345,
     "metadata": {},
     "output_type": "execute_result"
    }
   ],
   "source": [
    "df = pd.read_csv(\"fashion3.csv\")\n",
    "df.head()"
   ]
  },
  {
   "cell_type": "code",
   "execution_count": 346,
   "id": "341399d4",
   "metadata": {},
   "outputs": [],
   "source": [
    "df.iloc[:,2:13]\n",
    "col_lst = list(range(2,13))\n",
    "col_lst.extend([15,17])\n",
    "df = df.iloc[:,col_lst]\n",
    "df_clean = df.dropna()"
   ]
  },
  {
   "cell_type": "code",
   "execution_count": 347,
   "id": "5fe7419c",
   "metadata": {},
   "outputs": [
    {
     "data": {
      "text/html": [
       "<div>\n",
       "<style scoped>\n",
       "    .dataframe tbody tr th:only-of-type {\n",
       "        vertical-align: middle;\n",
       "    }\n",
       "\n",
       "    .dataframe tbody tr th {\n",
       "        vertical-align: top;\n",
       "    }\n",
       "\n",
       "    .dataframe thead th {\n",
       "        text-align: right;\n",
       "    }\n",
       "</style>\n",
       "<table border=\"1\" class=\"dataframe\">\n",
       "  <thead>\n",
       "    <tr style=\"text-align: right;\">\n",
       "      <th></th>\n",
       "      <th>item_id</th>\n",
       "      <th>category</th>\n",
       "      <th>waist</th>\n",
       "      <th>size</th>\n",
       "      <th>quality</th>\n",
       "      <th>cup size</th>\n",
       "      <th>hips</th>\n",
       "      <th>bra size</th>\n",
       "      <th>height_inches</th>\n",
       "      <th>length</th>\n",
       "      <th>fit</th>\n",
       "      <th>polarity</th>\n",
       "      <th>wordCount</th>\n",
       "    </tr>\n",
       "  </thead>\n",
       "  <tbody>\n",
       "    <tr>\n",
       "      <th>0</th>\n",
       "      <td>159891</td>\n",
       "      <td>1</td>\n",
       "      <td>26.0</td>\n",
       "      <td>1</td>\n",
       "      <td>5.0</td>\n",
       "      <td>2.0</td>\n",
       "      <td>38.0</td>\n",
       "      <td>32.0</td>\n",
       "      <td>64.0</td>\n",
       "      <td>5.0</td>\n",
       "      <td>3</td>\n",
       "      <td>0.392500</td>\n",
       "      <td>58</td>\n",
       "    </tr>\n",
       "    <tr>\n",
       "      <th>1</th>\n",
       "      <td>159891</td>\n",
       "      <td>1</td>\n",
       "      <td>31.0</td>\n",
       "      <td>8</td>\n",
       "      <td>3.0</td>\n",
       "      <td>5.0</td>\n",
       "      <td>41.0</td>\n",
       "      <td>36.0</td>\n",
       "      <td>62.0</td>\n",
       "      <td>5.0</td>\n",
       "      <td>3</td>\n",
       "      <td>0.186250</td>\n",
       "      <td>57</td>\n",
       "    </tr>\n",
       "    <tr>\n",
       "      <th>3</th>\n",
       "      <td>160625</td>\n",
       "      <td>1</td>\n",
       "      <td>32.0</td>\n",
       "      <td>11</td>\n",
       "      <td>4.0</td>\n",
       "      <td>5.0</td>\n",
       "      <td>43.0</td>\n",
       "      <td>38.0</td>\n",
       "      <td>67.0</td>\n",
       "      <td>5.0</td>\n",
       "      <td>2</td>\n",
       "      <td>0.413839</td>\n",
       "      <td>125</td>\n",
       "    </tr>\n",
       "    <tr>\n",
       "      <th>4</th>\n",
       "      <td>160625</td>\n",
       "      <td>1</td>\n",
       "      <td>28.0</td>\n",
       "      <td>7</td>\n",
       "      <td>5.0</td>\n",
       "      <td>3.0</td>\n",
       "      <td>32.0</td>\n",
       "      <td>34.0</td>\n",
       "      <td>65.0</td>\n",
       "      <td>5.0</td>\n",
       "      <td>3</td>\n",
       "      <td>0.400769</td>\n",
       "      <td>117</td>\n",
       "    </tr>\n",
       "    <tr>\n",
       "      <th>7</th>\n",
       "      <td>160625</td>\n",
       "      <td>1</td>\n",
       "      <td>27.0</td>\n",
       "      <td>5</td>\n",
       "      <td>5.0</td>\n",
       "      <td>3.0</td>\n",
       "      <td>38.0</td>\n",
       "      <td>36.0</td>\n",
       "      <td>68.0</td>\n",
       "      <td>5.0</td>\n",
       "      <td>2</td>\n",
       "      <td>0.098889</td>\n",
       "      <td>42</td>\n",
       "    </tr>\n",
       "  </tbody>\n",
       "</table>\n",
       "</div>"
      ],
      "text/plain": [
       "   item_id  category  waist  size  quality  cup size  hips  bra size  \\\n",
       "0   159891         1   26.0     1      5.0       2.0  38.0      32.0   \n",
       "1   159891         1   31.0     8      3.0       5.0  41.0      36.0   \n",
       "3   160625         1   32.0    11      4.0       5.0  43.0      38.0   \n",
       "4   160625         1   28.0     7      5.0       3.0  32.0      34.0   \n",
       "7   160625         1   27.0     5      5.0       3.0  38.0      36.0   \n",
       "\n",
       "   height_inches  length  fit  polarity  wordCount  \n",
       "0           64.0     5.0    3  0.392500         58  \n",
       "1           62.0     5.0    3  0.186250         57  \n",
       "3           67.0     5.0    2  0.413839        125  \n",
       "4           65.0     5.0    3  0.400769        117  \n",
       "7           68.0     5.0    2  0.098889         42  "
      ]
     },
     "execution_count": 347,
     "metadata": {},
     "output_type": "execute_result"
    }
   ],
   "source": [
    "df_clean.head()"
   ]
  },
  {
   "cell_type": "markdown",
   "id": "a2b7be47",
   "metadata": {},
   "source": [
    "# SVD\n",
    "\n",
    "User's rating scores:\n",
    "\n",
    "* `quality`, and `polarity`\n",
    "\n",
    "Because both features have different scaling, we need to make sure that they have same scaling to combine them together"
   ]
  },
  {
   "cell_type": "code",
   "execution_count": 348,
   "id": "8ae6c906",
   "metadata": {},
   "outputs": [
    {
     "data": {
      "text/html": [
       "<div>\n",
       "<style scoped>\n",
       "    .dataframe tbody tr th:only-of-type {\n",
       "        vertical-align: middle;\n",
       "    }\n",
       "\n",
       "    .dataframe tbody tr th {\n",
       "        vertical-align: top;\n",
       "    }\n",
       "\n",
       "    .dataframe thead th {\n",
       "        text-align: right;\n",
       "    }\n",
       "</style>\n",
       "<table border=\"1\" class=\"dataframe\">\n",
       "  <thead>\n",
       "    <tr style=\"text-align: right;\">\n",
       "      <th></th>\n",
       "      <th>quality</th>\n",
       "      <th>polarity</th>\n",
       "      <th>avg</th>\n",
       "    </tr>\n",
       "  </thead>\n",
       "  <tbody>\n",
       "    <tr>\n",
       "      <th>0</th>\n",
       "      <td>1.00</td>\n",
       "      <td>0.69</td>\n",
       "      <td>0.845</td>\n",
       "    </tr>\n",
       "    <tr>\n",
       "      <th>1</th>\n",
       "      <td>0.50</td>\n",
       "      <td>0.59</td>\n",
       "      <td>0.545</td>\n",
       "    </tr>\n",
       "    <tr>\n",
       "      <th>3</th>\n",
       "      <td>0.75</td>\n",
       "      <td>0.70</td>\n",
       "      <td>0.725</td>\n",
       "    </tr>\n",
       "    <tr>\n",
       "      <th>4</th>\n",
       "      <td>1.00</td>\n",
       "      <td>0.70</td>\n",
       "      <td>0.850</td>\n",
       "    </tr>\n",
       "    <tr>\n",
       "      <th>7</th>\n",
       "      <td>1.00</td>\n",
       "      <td>0.54</td>\n",
       "      <td>0.770</td>\n",
       "    </tr>\n",
       "  </tbody>\n",
       "</table>\n",
       "</div>"
      ],
      "text/plain": [
       "   quality  polarity    avg\n",
       "0     1.00      0.69  0.845\n",
       "1     0.50      0.59  0.545\n",
       "3     0.75      0.70  0.725\n",
       "4     1.00      0.70  0.850\n",
       "7     1.00      0.54  0.770"
      ]
     },
     "execution_count": 348,
     "metadata": {},
     "output_type": "execute_result"
    }
   ],
   "source": [
    "# Scaling range: [0,1]\n",
    "# After scaling, take the average to get the overall score\n",
    "col_lst = [4,11]\n",
    "score = df_clean.iloc[:,col_lst].apply(lambda iterator: ((iterator - iterator.min())/(iterator.max() - iterator.min())).round(2))\n",
    "score[\"avg\"] = score.mean(axis=1)\n",
    "score.head()"
   ]
  },
  {
   "cell_type": "code",
   "execution_count": 349,
   "id": "b7e3cbfa",
   "metadata": {},
   "outputs": [],
   "source": [
    " # Add user id and category\n",
    "score.insert(0, \"user_id\", score.index + 1)\n",
    "score.insert(1, \"item_id\", df_clean[\"category\"])"
   ]
  },
  {
   "cell_type": "code",
   "execution_count": 350,
   "id": "cd4d1652",
   "metadata": {},
   "outputs": [
    {
     "data": {
      "text/html": [
       "<div>\n",
       "<style scoped>\n",
       "    .dataframe tbody tr th:only-of-type {\n",
       "        vertical-align: middle;\n",
       "    }\n",
       "\n",
       "    .dataframe tbody tr th {\n",
       "        vertical-align: top;\n",
       "    }\n",
       "\n",
       "    .dataframe thead th {\n",
       "        text-align: right;\n",
       "    }\n",
       "</style>\n",
       "<table border=\"1\" class=\"dataframe\">\n",
       "  <thead>\n",
       "    <tr style=\"text-align: right;\">\n",
       "      <th></th>\n",
       "      <th>user_id</th>\n",
       "      <th>item_id</th>\n",
       "      <th>quality</th>\n",
       "    </tr>\n",
       "  </thead>\n",
       "  <tbody>\n",
       "    <tr>\n",
       "      <th>0</th>\n",
       "      <td>1</td>\n",
       "      <td>1</td>\n",
       "      <td>1.00</td>\n",
       "    </tr>\n",
       "    <tr>\n",
       "      <th>1</th>\n",
       "      <td>2</td>\n",
       "      <td>1</td>\n",
       "      <td>0.50</td>\n",
       "    </tr>\n",
       "    <tr>\n",
       "      <th>3</th>\n",
       "      <td>4</td>\n",
       "      <td>1</td>\n",
       "      <td>0.75</td>\n",
       "    </tr>\n",
       "    <tr>\n",
       "      <th>4</th>\n",
       "      <td>5</td>\n",
       "      <td>1</td>\n",
       "      <td>1.00</td>\n",
       "    </tr>\n",
       "    <tr>\n",
       "      <th>7</th>\n",
       "      <td>8</td>\n",
       "      <td>1</td>\n",
       "      <td>1.00</td>\n",
       "    </tr>\n",
       "  </tbody>\n",
       "</table>\n",
       "</div>"
      ],
      "text/plain": [
       "   user_id  item_id  quality\n",
       "0        1        1     1.00\n",
       "1        2        1     0.50\n",
       "3        4        1     0.75\n",
       "4        5        1     1.00\n",
       "7        8        1     1.00"
      ]
     },
     "execution_count": 350,
     "metadata": {},
     "output_type": "execute_result"
    }
   ],
   "source": [
    "# only keep the first three columns\n",
    "score = score.iloc[:,0:3]\n",
    "score.head()"
   ]
  },
  {
   "cell_type": "code",
   "execution_count": 351,
   "id": "ec6684a8",
   "metadata": {},
   "outputs": [],
   "source": [
    "score2 = score[\"quality\"]"
   ]
  },
  {
   "cell_type": "code",
   "execution_count": 352,
   "id": "3019486c",
   "metadata": {},
   "outputs": [],
   "source": [
    "score = score.pivot(index='user_id', columns='item_id', values='quality') "
   ]
  },
  {
   "cell_type": "code",
   "execution_count": 353,
   "id": "78a9b6d1",
   "metadata": {},
   "outputs": [
    {
     "data": {
      "text/html": [
       "<div>\n",
       "<style scoped>\n",
       "    .dataframe tbody tr th:only-of-type {\n",
       "        vertical-align: middle;\n",
       "    }\n",
       "\n",
       "    .dataframe tbody tr th {\n",
       "        vertical-align: top;\n",
       "    }\n",
       "\n",
       "    .dataframe thead th {\n",
       "        text-align: right;\n",
       "    }\n",
       "</style>\n",
       "<table border=\"1\" class=\"dataframe\">\n",
       "  <thead>\n",
       "    <tr style=\"text-align: right;\">\n",
       "      <th>item_id</th>\n",
       "      <th>1</th>\n",
       "      <th>2</th>\n",
       "      <th>3</th>\n",
       "      <th>4</th>\n",
       "    </tr>\n",
       "    <tr>\n",
       "      <th>user_id</th>\n",
       "      <th></th>\n",
       "      <th></th>\n",
       "      <th></th>\n",
       "      <th></th>\n",
       "    </tr>\n",
       "  </thead>\n",
       "  <tbody>\n",
       "    <tr>\n",
       "      <th>1</th>\n",
       "      <td>1.00</td>\n",
       "      <td>NaN</td>\n",
       "      <td>NaN</td>\n",
       "      <td>NaN</td>\n",
       "    </tr>\n",
       "    <tr>\n",
       "      <th>2</th>\n",
       "      <td>0.50</td>\n",
       "      <td>NaN</td>\n",
       "      <td>NaN</td>\n",
       "      <td>NaN</td>\n",
       "    </tr>\n",
       "    <tr>\n",
       "      <th>4</th>\n",
       "      <td>0.75</td>\n",
       "      <td>NaN</td>\n",
       "      <td>NaN</td>\n",
       "      <td>NaN</td>\n",
       "    </tr>\n",
       "    <tr>\n",
       "      <th>5</th>\n",
       "      <td>1.00</td>\n",
       "      <td>NaN</td>\n",
       "      <td>NaN</td>\n",
       "      <td>NaN</td>\n",
       "    </tr>\n",
       "    <tr>\n",
       "      <th>8</th>\n",
       "      <td>1.00</td>\n",
       "      <td>NaN</td>\n",
       "      <td>NaN</td>\n",
       "      <td>NaN</td>\n",
       "    </tr>\n",
       "  </tbody>\n",
       "</table>\n",
       "</div>"
      ],
      "text/plain": [
       "item_id     1   2   3   4\n",
       "user_id                  \n",
       "1        1.00 NaN NaN NaN\n",
       "2        0.50 NaN NaN NaN\n",
       "4        0.75 NaN NaN NaN\n",
       "5        1.00 NaN NaN NaN\n",
       "8        1.00 NaN NaN NaN"
      ]
     },
     "execution_count": 353,
     "metadata": {},
     "output_type": "execute_result"
    }
   ],
   "source": [
    "score.head()"
   ]
  },
  {
   "cell_type": "code",
   "execution_count": 354,
   "id": "d1424cd5",
   "metadata": {},
   "outputs": [],
   "source": [
    "df_top = df_clean[['waist','height_inches','cup size', 'bra size','fit']].copy()"
   ]
  },
  {
   "cell_type": "code",
   "execution_count": 355,
   "id": "3e694b49",
   "metadata": {},
   "outputs": [
    {
     "data": {
      "text/html": [
       "<div>\n",
       "<style scoped>\n",
       "    .dataframe tbody tr th:only-of-type {\n",
       "        vertical-align: middle;\n",
       "    }\n",
       "\n",
       "    .dataframe tbody tr th {\n",
       "        vertical-align: top;\n",
       "    }\n",
       "\n",
       "    .dataframe thead th {\n",
       "        text-align: right;\n",
       "    }\n",
       "</style>\n",
       "<table border=\"1\" class=\"dataframe\">\n",
       "  <thead>\n",
       "    <tr style=\"text-align: right;\">\n",
       "      <th>item_id</th>\n",
       "      <th>1</th>\n",
       "      <th>2</th>\n",
       "      <th>3</th>\n",
       "      <th>4</th>\n",
       "    </tr>\n",
       "    <tr>\n",
       "      <th>user_id</th>\n",
       "      <th></th>\n",
       "      <th></th>\n",
       "      <th></th>\n",
       "      <th></th>\n",
       "    </tr>\n",
       "  </thead>\n",
       "  <tbody>\n",
       "    <tr>\n",
       "      <th>1</th>\n",
       "      <td>1.00</td>\n",
       "      <td>0.0</td>\n",
       "      <td>0.0</td>\n",
       "      <td>0.00</td>\n",
       "    </tr>\n",
       "    <tr>\n",
       "      <th>2</th>\n",
       "      <td>0.50</td>\n",
       "      <td>0.0</td>\n",
       "      <td>0.0</td>\n",
       "      <td>0.00</td>\n",
       "    </tr>\n",
       "    <tr>\n",
       "      <th>4</th>\n",
       "      <td>0.75</td>\n",
       "      <td>0.0</td>\n",
       "      <td>0.0</td>\n",
       "      <td>0.00</td>\n",
       "    </tr>\n",
       "    <tr>\n",
       "      <th>5</th>\n",
       "      <td>1.00</td>\n",
       "      <td>0.0</td>\n",
       "      <td>0.0</td>\n",
       "      <td>0.00</td>\n",
       "    </tr>\n",
       "    <tr>\n",
       "      <th>8</th>\n",
       "      <td>1.00</td>\n",
       "      <td>0.0</td>\n",
       "      <td>0.0</td>\n",
       "      <td>0.00</td>\n",
       "    </tr>\n",
       "    <tr>\n",
       "      <th>...</th>\n",
       "      <td>...</td>\n",
       "      <td>...</td>\n",
       "      <td>...</td>\n",
       "      <td>...</td>\n",
       "    </tr>\n",
       "    <tr>\n",
       "      <th>2090</th>\n",
       "      <td>0.00</td>\n",
       "      <td>0.0</td>\n",
       "      <td>0.0</td>\n",
       "      <td>0.00</td>\n",
       "    </tr>\n",
       "    <tr>\n",
       "      <th>2091</th>\n",
       "      <td>0.00</td>\n",
       "      <td>0.0</td>\n",
       "      <td>0.0</td>\n",
       "      <td>1.00</td>\n",
       "    </tr>\n",
       "    <tr>\n",
       "      <th>2094</th>\n",
       "      <td>0.00</td>\n",
       "      <td>0.0</td>\n",
       "      <td>0.0</td>\n",
       "      <td>1.00</td>\n",
       "    </tr>\n",
       "    <tr>\n",
       "      <th>2095</th>\n",
       "      <td>0.00</td>\n",
       "      <td>0.0</td>\n",
       "      <td>0.0</td>\n",
       "      <td>1.00</td>\n",
       "    </tr>\n",
       "    <tr>\n",
       "      <th>2096</th>\n",
       "      <td>0.00</td>\n",
       "      <td>0.0</td>\n",
       "      <td>0.0</td>\n",
       "      <td>0.75</td>\n",
       "    </tr>\n",
       "  </tbody>\n",
       "</table>\n",
       "<p>1455 rows × 4 columns</p>\n",
       "</div>"
      ],
      "text/plain": [
       "item_id     1    2    3     4\n",
       "user_id                      \n",
       "1        1.00  0.0  0.0  0.00\n",
       "2        0.50  0.0  0.0  0.00\n",
       "4        0.75  0.0  0.0  0.00\n",
       "5        1.00  0.0  0.0  0.00\n",
       "8        1.00  0.0  0.0  0.00\n",
       "...       ...  ...  ...   ...\n",
       "2090     0.00  0.0  0.0  0.00\n",
       "2091     0.00  0.0  0.0  1.00\n",
       "2094     0.00  0.0  0.0  1.00\n",
       "2095     0.00  0.0  0.0  1.00\n",
       "2096     0.00  0.0  0.0  0.75\n",
       "\n",
       "[1455 rows x 4 columns]"
      ]
     },
     "execution_count": 355,
     "metadata": {},
     "output_type": "execute_result"
    }
   ],
   "source": [
    "score.fillna(0)"
   ]
  },
  {
   "cell_type": "code",
   "execution_count": 356,
   "id": "22720fa7",
   "metadata": {},
   "outputs": [],
   "source": [
    "X = df_top\n",
    "y = score2"
   ]
  },
  {
   "cell_type": "code",
   "execution_count": 357,
   "id": "0e56e717",
   "metadata": {},
   "outputs": [],
   "source": [
    "scaler = StandardScaler()"
   ]
  },
  {
   "cell_type": "code",
   "execution_count": 358,
   "id": "7716b55a",
   "metadata": {},
   "outputs": [
    {
     "data": {
      "text/plain": [
       "StandardScaler()"
      ]
     },
     "execution_count": 358,
     "metadata": {},
     "output_type": "execute_result"
    }
   ],
   "source": [
    "scaler.fit(X)"
   ]
  },
  {
   "cell_type": "code",
   "execution_count": 359,
   "id": "4365e7f5",
   "metadata": {},
   "outputs": [],
   "source": [
    "X_scaled = scaler.transform(X)"
   ]
  },
  {
   "cell_type": "code",
   "execution_count": 360,
   "id": "4fc8c699",
   "metadata": {},
   "outputs": [],
   "source": [
    "reg = KNeighborsRegressor(n_neighbors=15)"
   ]
  },
  {
   "cell_type": "code",
   "execution_count": 361,
   "id": "f68117c4",
   "metadata": {},
   "outputs": [
    {
     "data": {
      "text/plain": [
       "KNeighborsRegressor(n_neighbors=15)"
      ]
     },
     "execution_count": 361,
     "metadata": {},
     "output_type": "execute_result"
    }
   ],
   "source": [
    "reg.fit(X_scaled,y)"
   ]
  },
  {
   "cell_type": "code",
   "execution_count": 362,
   "id": "d994f542",
   "metadata": {},
   "outputs": [],
   "source": [
    "score[\"top pred\"] = reg.predict(X_scaled)"
   ]
  },
  {
   "cell_type": "code",
   "execution_count": 363,
   "id": "3faf1aa6",
   "metadata": {},
   "outputs": [
    {
     "data": {
      "text/html": [
       "<div>\n",
       "<style scoped>\n",
       "    .dataframe tbody tr th:only-of-type {\n",
       "        vertical-align: middle;\n",
       "    }\n",
       "\n",
       "    .dataframe tbody tr th {\n",
       "        vertical-align: top;\n",
       "    }\n",
       "\n",
       "    .dataframe thead th {\n",
       "        text-align: right;\n",
       "    }\n",
       "</style>\n",
       "<table border=\"1\" class=\"dataframe\">\n",
       "  <thead>\n",
       "    <tr style=\"text-align: right;\">\n",
       "      <th>item_id</th>\n",
       "      <th>1</th>\n",
       "      <th>2</th>\n",
       "      <th>3</th>\n",
       "      <th>4</th>\n",
       "      <th>top pred</th>\n",
       "    </tr>\n",
       "    <tr>\n",
       "      <th>user_id</th>\n",
       "      <th></th>\n",
       "      <th></th>\n",
       "      <th></th>\n",
       "      <th></th>\n",
       "      <th></th>\n",
       "    </tr>\n",
       "  </thead>\n",
       "  <tbody>\n",
       "    <tr>\n",
       "      <th>1</th>\n",
       "      <td>1.00</td>\n",
       "      <td>NaN</td>\n",
       "      <td>NaN</td>\n",
       "      <td>NaN</td>\n",
       "      <td>0.783333</td>\n",
       "    </tr>\n",
       "    <tr>\n",
       "      <th>2</th>\n",
       "      <td>0.50</td>\n",
       "      <td>NaN</td>\n",
       "      <td>NaN</td>\n",
       "      <td>NaN</td>\n",
       "      <td>0.783333</td>\n",
       "    </tr>\n",
       "    <tr>\n",
       "      <th>4</th>\n",
       "      <td>0.75</td>\n",
       "      <td>NaN</td>\n",
       "      <td>NaN</td>\n",
       "      <td>NaN</td>\n",
       "      <td>0.700000</td>\n",
       "    </tr>\n",
       "    <tr>\n",
       "      <th>5</th>\n",
       "      <td>1.00</td>\n",
       "      <td>NaN</td>\n",
       "      <td>NaN</td>\n",
       "      <td>NaN</td>\n",
       "      <td>0.933333</td>\n",
       "    </tr>\n",
       "    <tr>\n",
       "      <th>8</th>\n",
       "      <td>1.00</td>\n",
       "      <td>NaN</td>\n",
       "      <td>NaN</td>\n",
       "      <td>NaN</td>\n",
       "      <td>0.666667</td>\n",
       "    </tr>\n",
       "    <tr>\n",
       "      <th>...</th>\n",
       "      <td>...</td>\n",
       "      <td>...</td>\n",
       "      <td>...</td>\n",
       "      <td>...</td>\n",
       "      <td>...</td>\n",
       "    </tr>\n",
       "    <tr>\n",
       "      <th>2090</th>\n",
       "      <td>NaN</td>\n",
       "      <td>NaN</td>\n",
       "      <td>NaN</td>\n",
       "      <td>0.00</td>\n",
       "      <td>0.700000</td>\n",
       "    </tr>\n",
       "    <tr>\n",
       "      <th>2091</th>\n",
       "      <td>NaN</td>\n",
       "      <td>NaN</td>\n",
       "      <td>NaN</td>\n",
       "      <td>1.00</td>\n",
       "      <td>0.800000</td>\n",
       "    </tr>\n",
       "    <tr>\n",
       "      <th>2094</th>\n",
       "      <td>NaN</td>\n",
       "      <td>NaN</td>\n",
       "      <td>NaN</td>\n",
       "      <td>1.00</td>\n",
       "      <td>0.800000</td>\n",
       "    </tr>\n",
       "    <tr>\n",
       "      <th>2095</th>\n",
       "      <td>NaN</td>\n",
       "      <td>NaN</td>\n",
       "      <td>NaN</td>\n",
       "      <td>1.00</td>\n",
       "      <td>0.883333</td>\n",
       "    </tr>\n",
       "    <tr>\n",
       "      <th>2096</th>\n",
       "      <td>NaN</td>\n",
       "      <td>NaN</td>\n",
       "      <td>NaN</td>\n",
       "      <td>0.75</td>\n",
       "      <td>0.866667</td>\n",
       "    </tr>\n",
       "  </tbody>\n",
       "</table>\n",
       "<p>1455 rows × 5 columns</p>\n",
       "</div>"
      ],
      "text/plain": [
       "item_id     1   2   3     4  top pred\n",
       "user_id                              \n",
       "1        1.00 NaN NaN   NaN  0.783333\n",
       "2        0.50 NaN NaN   NaN  0.783333\n",
       "4        0.75 NaN NaN   NaN  0.700000\n",
       "5        1.00 NaN NaN   NaN  0.933333\n",
       "8        1.00 NaN NaN   NaN  0.666667\n",
       "...       ...  ..  ..   ...       ...\n",
       "2090      NaN NaN NaN  0.00  0.700000\n",
       "2091      NaN NaN NaN  1.00  0.800000\n",
       "2094      NaN NaN NaN  1.00  0.800000\n",
       "2095      NaN NaN NaN  1.00  0.883333\n",
       "2096      NaN NaN NaN  0.75  0.866667\n",
       "\n",
       "[1455 rows x 5 columns]"
      ]
     },
     "execution_count": 363,
     "metadata": {},
     "output_type": "execute_result"
    }
   ],
   "source": [
    "score"
   ]
  },
  {
   "cell_type": "code",
   "execution_count": 364,
   "id": "edbaec28",
   "metadata": {},
   "outputs": [],
   "source": [
    "X_scaled_train, X_scaled_test, y_train, y_test = train_test_split(X_scaled,y,test_size=0.2)"
   ]
  },
  {
   "cell_type": "code",
   "execution_count": 365,
   "id": "8e59e74d",
   "metadata": {},
   "outputs": [
    {
     "data": {
      "text/plain": [
       "KNeighborsRegressor(n_neighbors=15)"
      ]
     },
     "execution_count": 365,
     "metadata": {},
     "output_type": "execute_result"
    }
   ],
   "source": [
    "reg.fit(X_scaled_train,y_train)"
   ]
  },
  {
   "cell_type": "code",
   "execution_count": 366,
   "id": "8fe065fc",
   "metadata": {},
   "outputs": [
    {
     "data": {
      "text/plain": [
       "0.06950171821305842"
      ]
     },
     "execution_count": 366,
     "metadata": {},
     "output_type": "execute_result"
    }
   ],
   "source": [
    "mean_squared_error(reg.predict(X_scaled_test),y_test)"
   ]
  },
  {
   "cell_type": "code",
   "execution_count": 367,
   "id": "2d237520",
   "metadata": {},
   "outputs": [
    {
     "data": {
      "text/plain": [
       "0.051142850324551355"
      ]
     },
     "execution_count": 367,
     "metadata": {},
     "output_type": "execute_result"
    }
   ],
   "source": [
    "mean_squared_error(reg.predict(X_scaled_train),y_train)"
   ]
  },
  {
   "cell_type": "code",
   "execution_count": 368,
   "id": "c43763de",
   "metadata": {},
   "outputs": [],
   "source": [
    "def get_scores(k):\n",
    "    reg = KNeighborsRegressor(n_neighbors=k)\n",
    "    reg.fit(X_scaled_train, y_train)\n",
    "    train_error = mean_absolute_error(reg.predict(X_scaled_train), y_train)\n",
    "    test_error = mean_absolute_error(reg.predict(X_scaled_test), y_test)\n",
    "    return (train_error, test_error)\n",
    "\n",
    "df_scores = pd.DataFrame({\"k\":range(1,150),\"train_error\":np.nan,\"test_error\":np.nan})\n",
    "\n",
    "for i in df_scores.index:\n",
    "    df_scores.loc[i,[\"train_error\",\"test_error\"]] = get_scores(df_scores.loc[i,\"k\"])\n",
    "\n",
    "df_scores[\"kinv\"] = 1/df_scores.k"
   ]
  },
  {
   "cell_type": "code",
   "execution_count": 369,
   "id": "6d7cad7f",
   "metadata": {},
   "outputs": [],
   "source": [
    "ctrain = alt.Chart(df_scores).mark_line(color=\"#FF0000\").encode(\n",
    "    x = \"kinv\",\n",
    "    y = \"train_error\"\n",
    ")"
   ]
  },
  {
   "cell_type": "code",
   "execution_count": 370,
   "id": "97c8889f",
   "metadata": {},
   "outputs": [],
   "source": [
    "ctest = alt.Chart(df_scores).mark_line(color=\"#045FB4\").encode(\n",
    "    x = alt.X(\"kinv\",title='k-inverse'),\n",
    "    y = \"test_error\"\n",
    ")"
   ]
  },
  {
   "cell_type": "code",
   "execution_count": 371,
   "id": "4f0e9219",
   "metadata": {},
   "outputs": [
    {
     "data": {
      "text/html": [
       "\n",
       "<div id=\"altair-viz-2ab84b01ce4e46d784da6d8e742e9049\"></div>\n",
       "<script type=\"text/javascript\">\n",
       "  var VEGA_DEBUG = (typeof VEGA_DEBUG == \"undefined\") ? {} : VEGA_DEBUG;\n",
       "  (function(spec, embedOpt){\n",
       "    let outputDiv = document.currentScript.previousElementSibling;\n",
       "    if (outputDiv.id !== \"altair-viz-2ab84b01ce4e46d784da6d8e742e9049\") {\n",
       "      outputDiv = document.getElementById(\"altair-viz-2ab84b01ce4e46d784da6d8e742e9049\");\n",
       "    }\n",
       "    const paths = {\n",
       "      \"vega\": \"https://cdn.jsdelivr.net/npm//vega@5?noext\",\n",
       "      \"vega-lib\": \"https://cdn.jsdelivr.net/npm//vega-lib?noext\",\n",
       "      \"vega-lite\": \"https://cdn.jsdelivr.net/npm//vega-lite@4.17.0?noext\",\n",
       "      \"vega-embed\": \"https://cdn.jsdelivr.net/npm//vega-embed@6?noext\",\n",
       "    };\n",
       "\n",
       "    function maybeLoadScript(lib, version) {\n",
       "      var key = `${lib.replace(\"-\", \"\")}_version`;\n",
       "      return (VEGA_DEBUG[key] == version) ?\n",
       "        Promise.resolve(paths[lib]) :\n",
       "        new Promise(function(resolve, reject) {\n",
       "          var s = document.createElement('script');\n",
       "          document.getElementsByTagName(\"head\")[0].appendChild(s);\n",
       "          s.async = true;\n",
       "          s.onload = () => {\n",
       "            VEGA_DEBUG[key] = version;\n",
       "            return resolve(paths[lib]);\n",
       "          };\n",
       "          s.onerror = () => reject(`Error loading script: ${paths[lib]}`);\n",
       "          s.src = paths[lib];\n",
       "        });\n",
       "    }\n",
       "\n",
       "    function showError(err) {\n",
       "      outputDiv.innerHTML = `<div class=\"error\" style=\"color:red;\">${err}</div>`;\n",
       "      throw err;\n",
       "    }\n",
       "\n",
       "    function displayChart(vegaEmbed) {\n",
       "      vegaEmbed(outputDiv, spec, embedOpt)\n",
       "        .catch(err => showError(`Javascript Error: ${err.message}<br>This usually means there's a typo in your chart specification. See the javascript console for the full traceback.`));\n",
       "    }\n",
       "\n",
       "    if(typeof define === \"function\" && define.amd) {\n",
       "      requirejs.config({paths});\n",
       "      require([\"vega-embed\"], displayChart, err => showError(`Error loading script: ${err.message}`));\n",
       "    } else {\n",
       "      maybeLoadScript(\"vega\", \"5\")\n",
       "        .then(() => maybeLoadScript(\"vega-lite\", \"4.17.0\"))\n",
       "        .then(() => maybeLoadScript(\"vega-embed\", \"6\"))\n",
       "        .catch(showError)\n",
       "        .then(() => displayChart(vegaEmbed));\n",
       "    }\n",
       "  })({\"config\": {\"view\": {\"continuousWidth\": 400, \"continuousHeight\": 300}}, \"layer\": [{\"mark\": {\"type\": \"line\", \"color\": \"#FF0000\"}, \"encoding\": {\"x\": {\"field\": \"kinv\", \"type\": \"quantitative\"}, \"y\": {\"field\": \"train_error\", \"type\": \"quantitative\"}}}, {\"mark\": {\"type\": \"line\", \"color\": \"#045FB4\"}, \"encoding\": {\"x\": {\"field\": \"kinv\", \"title\": \"k-inverse\", \"type\": \"quantitative\"}, \"y\": {\"field\": \"test_error\", \"type\": \"quantitative\"}}}], \"data\": {\"name\": \"data-31c4dba1eec051d9fc2c551b30145aeb\"}, \"$schema\": \"https://vega.github.io/schema/vega-lite/v4.17.0.json\", \"datasets\": {\"data-31c4dba1eec051d9fc2c551b30145aeb\": [{\"k\": 1, \"train_error\": 0.04768041237113402, \"test_error\": 0.24656357388316152, \"kinv\": 1.0}, {\"k\": 2, \"train_error\": 0.12564432989690721, \"test_error\": 0.24097938144329897, \"kinv\": 0.5}, {\"k\": 3, \"train_error\": 0.14740836197021764, \"test_error\": 0.22995418098510878, \"kinv\": 0.3333333333333333}, {\"k\": 4, \"train_error\": 0.15780713058419243, \"test_error\": 0.23067010309278352, \"kinv\": 0.25}, {\"k\": 5, \"train_error\": 0.16494845360824742, \"test_error\": 0.22542955326460484, \"kinv\": 0.2}, {\"k\": 6, \"train_error\": 0.16913659793814434, \"test_error\": 0.22236540664375715, \"kinv\": 0.16666666666666666}, {\"k\": 7, \"train_error\": 0.1718213058419244, \"test_error\": 0.22042218949435446, \"kinv\": 0.14285714285714285}, {\"k\": 8, \"train_error\": 0.17525773195876287, \"test_error\": 0.21875, \"kinv\": 0.125}, {\"k\": 9, \"train_error\": 0.17647479954180986, \"test_error\": 0.21964490263459335, \"kinv\": 0.1111111111111111}, {\"k\": 10, \"train_error\": 0.17880154639175258, \"test_error\": 0.21443298969072164, \"kinv\": 0.1}, {\"k\": 11, \"train_error\": 0.17951421430802872, \"test_error\": 0.21376132458606684, \"kinv\": 0.09090909090909091}, {\"k\": 12, \"train_error\": 0.17994702176403207, \"test_error\": 0.2132016036655212, \"kinv\": 0.08333333333333333}, {\"k\": 13, \"train_error\": 0.18049497753106003, \"test_error\": 0.21385144065556438, \"kinv\": 0.07692307692307693}, {\"k\": 14, \"train_error\": 0.18139420716740307, \"test_error\": 0.2142243495336279, \"kinv\": 0.07142857142857142}, {\"k\": 15, \"train_error\": 0.18185853379152347, \"test_error\": 0.21374570446735397, \"kinv\": 0.06666666666666667}, {\"k\": 16, \"train_error\": 0.18238563144329897, \"test_error\": 0.21348797250859106, \"kinv\": 0.0625}, {\"k\": 17, \"train_error\": 0.18281281584798867, \"test_error\": 0.21300788356579745, \"kinv\": 0.058823529411764705}, {\"k\": 18, \"train_error\": 0.18248854524627722, \"test_error\": 0.21191294387170675, \"kinv\": 0.05555555555555555}, {\"k\": 19, \"train_error\": 0.1825375293904865, \"test_error\": 0.21206366431542775, \"kinv\": 0.05263157894736842}, {\"k\": 20, \"train_error\": 0.18349441580756015, \"test_error\": 0.21198453608247422, \"kinv\": 0.05}, {\"k\": 21, \"train_error\": 0.18394084437898872, \"test_error\": 0.21191294387170675, \"kinv\": 0.047619047619047616}, {\"k\": 22, \"train_error\": 0.18423930021868165, \"test_error\": 0.21098875351452673, \"kinv\": 0.045454545454545456}, {\"k\": 23, \"train_error\": 0.18372740176303604, \"test_error\": 0.21085462423427465, \"kinv\": 0.043478260869565216}, {\"k\": 24, \"train_error\": 0.18400093069873996, \"test_error\": 0.2105884879725086, \"kinv\": 0.041666666666666664}, {\"k\": 25, \"train_error\": 0.18443298969072164, \"test_error\": 0.2097594501718213, \"kinv\": 0.04}, {\"k\": 26, \"train_error\": 0.1848978984932593, \"test_error\": 0.21038197197991013, \"kinv\": 0.038461538461538464}, {\"k\": 27, \"train_error\": 0.18438176148657245, \"test_error\": 0.2094628993254423, \"kinv\": 0.037037037037037035}, {\"k\": 28, \"train_error\": 0.18443943298969073, \"test_error\": 0.20916175748649973, \"kinv\": 0.03571428571428571}, {\"k\": 29, \"train_error\": 0.18453015760161157, \"test_error\": 0.2086147647825572, \"kinv\": 0.034482758620689655}, {\"k\": 30, \"train_error\": 0.18477233676975943, \"test_error\": 0.20804696449026347, \"kinv\": 0.03333333333333333}, {\"k\": 31, \"train_error\": 0.18498503491852344, \"test_error\": 0.20862432102871076, \"kinv\": 0.03225806451612903}, {\"k\": 32, \"train_error\": 0.18486898625429554, \"test_error\": 0.20838702749140894, \"kinv\": 0.03125}, {\"k\": 33, \"train_error\": 0.18494220556076224, \"test_error\": 0.20805998125585756, \"kinv\": 0.030303030303030304}, {\"k\": 34, \"train_error\": 0.18513745704467355, \"test_error\": 0.20717101273499092, \"kinv\": 0.029411764705882353}, {\"k\": 35, \"train_error\": 0.18535223367697595, \"test_error\": 0.20689739813451152, \"kinv\": 0.02857142857142857}, {\"k\": 36, \"train_error\": 0.18534030164184803, \"test_error\": 0.20804696449026344, \"kinv\": 0.027777777777777776}, {\"k\": 37, \"train_error\": 0.18556120553543232, \"test_error\": 0.20822884740410513, \"kinv\": 0.02702702702702703}, {\"k\": 38, \"train_error\": 0.18591178332429012, \"test_error\": 0.20810725266775185, \"kinv\": 0.02631578947368421}, {\"k\": 39, \"train_error\": 0.186018591946427, \"test_error\": 0.20907128381355186, \"kinv\": 0.02564102564102564}, {\"k\": 40, \"train_error\": 0.18607710481099657, \"test_error\": 0.20863402061855668, \"kinv\": 0.025}, {\"k\": 41, \"train_error\": 0.18611704802615034, \"test_error\": 0.20819713351772692, \"kinv\": 0.024390243902439025}, {\"k\": 42, \"train_error\": 0.18631872852233677, \"test_error\": 0.20790378006872853, \"kinv\": 0.023809523809523808}, {\"k\": 43, \"train_error\": 0.1865360025573404, \"test_error\": 0.20734436186366179, \"kinv\": 0.023255813953488372}, {\"k\": 44, \"train_error\": 0.18645540456107468, \"test_error\": 0.20690799750078104, \"kinv\": 0.022727272727272728}, {\"k\": 45, \"train_error\": 0.18676498663612062, \"test_error\": 0.2071783123329515, \"kinv\": 0.022222222222222223}, {\"k\": 46, \"train_error\": 0.18680431047362916, \"test_error\": 0.2069139399372479, \"kinv\": 0.021739130434782608}, {\"k\": 47, \"train_error\": 0.18665003290195217, \"test_error\": 0.20713606785113695, \"kinv\": 0.02127659574468085}, {\"k\": 48, \"train_error\": 0.18676170532646047, \"test_error\": 0.20713416380297825, \"kinv\": 0.020833333333333332}, {\"k\": 49, \"train_error\": 0.186776772564696, \"test_error\": 0.20686934567641488, \"kinv\": 0.02040816326530612}, {\"k\": 50, \"train_error\": 0.18685996563573884, \"test_error\": 0.20675257731958763, \"kinv\": 0.02}, {\"k\": 51, \"train_error\": 0.18668721784246345, \"test_error\": 0.20697729263526715, \"kinv\": 0.0196078431372549}, {\"k\": 52, \"train_error\": 0.1869217552207243, \"test_error\": 0.2064664287602432, \"kinv\": 0.019230769230769232}, {\"k\": 53, \"train_error\": 0.18712718018543736, \"test_error\": 0.20618556701030927, \"kinv\": 0.018867924528301886}, {\"k\": 54, \"train_error\": 0.187094310805651, \"test_error\": 0.20597874506809216, \"kinv\": 0.018518518518518517}, {\"k\": 55, \"train_error\": 0.18709778194314278, \"test_error\": 0.20592002499218995, \"kinv\": 0.01818181818181818}, {\"k\": 56, \"train_error\": 0.1870704467353952, \"test_error\": 0.2061548846342661, \"kinv\": 0.017857142857142856}, {\"k\": 57, \"train_error\": 0.186893350214023, \"test_error\": 0.20636643154277445, \"kinv\": 0.017543859649122806}, {\"k\": 58, \"train_error\": 0.18697046451001303, \"test_error\": 0.20596338428723784, \"kinv\": 0.017241379310344827}, {\"k\": 59, \"train_error\": 0.1870122022249403, \"test_error\": 0.20566136641621524, \"kinv\": 0.01694915254237288}, {\"k\": 60, \"train_error\": 0.18695231958762884, \"test_error\": 0.2054982817869416, \"kinv\": 0.016666666666666666}, {\"k\": 61, \"train_error\": 0.18694721424145117, \"test_error\": 0.20549546504422286, \"kinv\": 0.01639344262295082}, {\"k\": 62, \"train_error\": 0.18699077153308943, \"test_error\": 0.2053818867087906, \"kinv\": 0.016129032258064516}, {\"k\": 63, \"train_error\": 0.18709771995854468, \"test_error\": 0.20589919816723937, \"kinv\": 0.015873015873015872}, {\"k\": 64, \"train_error\": 0.18706709085051546, \"test_error\": 0.20558150773195877, \"kinv\": 0.015625}, {\"k\": 65, \"train_error\": 0.18735791699709226, \"test_error\": 0.20543219666931006, \"kinv\": 0.015384615384615385}, {\"k\": 66, \"train_error\": 0.1874121368322399, \"test_error\": 0.20533947724669374, \"kinv\": 0.015151515151515152}, {\"k\": 67, \"train_error\": 0.18736856952351644, \"test_error\": 0.2052367030825255, \"kinv\": 0.014925373134328358}, {\"k\": 68, \"train_error\": 0.1874968415201132, \"test_error\": 0.20496007681423084, \"kinv\": 0.014705882352941176}, {\"k\": 69, \"train_error\": 0.18754046516260772, \"test_error\": 0.20446735395189003, \"kinv\": 0.014492753623188406}, {\"k\": 70, \"train_error\": 0.18737420225822288, \"test_error\": 0.2043568973981345, \"kinv\": 0.014285714285714285}, {\"k\": 71, \"train_error\": 0.1873305987125502, \"test_error\": 0.20462465514737913, \"kinv\": 0.014084507042253521}, {\"k\": 72, \"train_error\": 0.18745525486827036, \"test_error\": 0.20424064528445973, \"kinv\": 0.013888888888888888}, {\"k\": 73, \"train_error\": 0.18743821494139248, \"test_error\": 0.20431436237819514, \"kinv\": 0.0136986301369863}, {\"k\": 74, \"train_error\": 0.18740131884461783, \"test_error\": 0.2037707810903687, \"kinv\": 0.013513513513513514}, {\"k\": 75, \"train_error\": 0.1875229095074456, \"test_error\": 0.20392898052691869, \"kinv\": 0.013333333333333334}, {\"k\": 76, \"train_error\": 0.1874180457587267, \"test_error\": 0.20380041598842466, \"kinv\": 0.013157894736842105}, {\"k\": 77, \"train_error\": 0.18738284910965325, \"test_error\": 0.20365287633328868, \"kinv\": 0.012987012987012988}, {\"k\": 78, \"train_error\": 0.1874036258701207, \"test_error\": 0.20368534672658384, \"kinv\": 0.01282051282051282}, {\"k\": 79, \"train_error\": 0.18756796728870329, \"test_error\": 0.20382574274653098, \"kinv\": 0.012658227848101266}, {\"k\": 80, \"train_error\": 0.18766913659793813, \"test_error\": 0.20383376288659794, \"kinv\": 0.0125}, {\"k\": 81, \"train_error\": 0.18773068601247295, \"test_error\": 0.20396886003987952, \"kinv\": 0.012345679012345678}, {\"k\": 82, \"train_error\": 0.18769382281451683, \"test_error\": 0.2038282625094292, \"kinv\": 0.012195121951219513}, {\"k\": 83, \"train_error\": 0.18765267254585352, \"test_error\": 0.20355649401730636, \"kinv\": 0.012048192771084338}, {\"k\": 84, \"train_error\": 0.1876840942562592, \"test_error\": 0.20383325151366388, \"kinv\": 0.011904761904761904}, {\"k\": 85, \"train_error\": 0.1876137052759248, \"test_error\": 0.20375985445724681, \"kinv\": 0.011764705882352941}, {\"k\": 86, \"train_error\": 0.1876148805242548, \"test_error\": 0.2035582993686566, \"kinv\": 0.011627906976744186}, {\"k\": 87, \"train_error\": 0.1876234348461508, \"test_error\": 0.20356874827191215, \"kinv\": 0.011494252873563218}, {\"k\": 88, \"train_error\": 0.1876415573258357, \"test_error\": 0.2038620743517651, \"kinv\": 0.011363636363636364}, {\"k\": 89, \"train_error\": 0.1878257847793351, \"test_error\": 0.20375304065794045, \"kinv\": 0.011235955056179775}, {\"k\": 90, \"train_error\": 0.18788421153111876, \"test_error\": 0.20389461626575028, \"kinv\": 0.011111111111111112}, {\"k\": 91, \"train_error\": 0.18785402741588306, \"test_error\": 0.2036743325403119, \"kinv\": 0.01098901098901099}, {\"k\": 92, \"train_error\": 0.18779881966233378, \"test_error\": 0.20330942776034663, \"kinv\": 0.010869565217391304}, {\"k\": 93, \"train_error\": 0.18781639138306913, \"test_error\": 0.203645198241141, \"kinv\": 0.010752688172043012}, {\"k\": 94, \"train_error\": 0.1878564378153104, \"test_error\": 0.20335234335014987, \"kinv\": 0.010638297872340425}, {\"k\": 95, \"train_error\": 0.18784590341833965, \"test_error\": 0.20370772291553627, \"kinv\": 0.010526315789473684}, {\"k\": 96, \"train_error\": 0.18801904352806417, \"test_error\": 0.2035545532646048, \"kinv\": 0.010416666666666666}, {\"k\": 97, \"train_error\": 0.18804469125305556, \"test_error\": 0.203935947851348, \"kinv\": 0.010309278350515464}, {\"k\": 98, \"train_error\": 0.18815967108492884, \"test_error\": 0.2039326039694228, \"kinv\": 0.01020408163265306}, {\"k\": 99, \"train_error\": 0.18805538199868096, \"test_error\": 0.20372105939116247, \"kinv\": 0.010101010101010102}, {\"k\": 100, \"train_error\": 0.18802835051546393, \"test_error\": 0.2036254295532646, \"kinv\": 0.01}, {\"k\": 101, \"train_error\": 0.18805501684189038, \"test_error\": 0.2038719335851111, \"kinv\": 0.009900990099009901}, {\"k\": 102, \"train_error\": 0.18811485075129705, \"test_error\": 0.20406306852637965, \"kinv\": 0.00980392156862745}, {\"k\": 103, \"train_error\": 0.18816935241717547, \"test_error\": 0.2040920161478664, \"kinv\": 0.009708737864077669}, {\"k\": 104, \"train_error\": 0.1881174828178694, \"test_error\": 0.2042443166798837, \"kinv\": 0.009615384615384616}, {\"k\": 105, \"train_error\": 0.18814228440517097, \"test_error\": 0.204189167075765, \"kinv\": 0.009523809523809525}, {\"k\": 106, \"train_error\": 0.18821727290410425, \"test_error\": 0.2041836867016793, \"kinv\": 0.009433962264150943}, {\"k\": 107, \"train_error\": 0.18815035167164468, \"test_error\": 0.2040337861707936, \"kinv\": 0.009345794392523364}, {\"k\": 108, \"train_error\": 0.18806677166857577, \"test_error\": 0.20426053200967292, \"kinv\": 0.009259259259259259}, {\"k\": 109, \"train_error\": 0.18821920615404017, \"test_error\": 0.20388410731738074, \"kinv\": 0.009174311926605505}, {\"k\": 110, \"train_error\": 0.18817166510465477, \"test_error\": 0.20416276163698846, \"kinv\": 0.00909090909090909}, {\"k\": 111, \"train_error\": 0.1883126683384415, \"test_error\": 0.20411906752112938, \"kinv\": 0.009009009009009009}, {\"k\": 112, \"train_error\": 0.18822870643102602, \"test_error\": 0.20402245949926365, \"kinv\": 0.008928571428571428}, {\"k\": 113, \"train_error\": 0.18821465498890005, \"test_error\": 0.20412523188273576, \"kinv\": 0.008849557522123894}, {\"k\": 114, \"train_error\": 0.18835533851811662, \"test_error\": 0.20427141737505278, \"kinv\": 0.008771929824561403}, {\"k\": 115, \"train_error\": 0.18827506349917825, \"test_error\": 0.20448976542656508, \"kinv\": 0.008695652173913044}, {\"k\": 116, \"train_error\": 0.188340591302287, \"test_error\": 0.20454141485958052, \"kinv\": 0.008620689655172414}, {\"k\": 117, \"train_error\": 0.18847475548506473, \"test_error\": 0.2044600111610421, \"kinv\": 0.008547008547008548}, {\"k\": 118, \"train_error\": 0.18851927893296058, \"test_error\": 0.20447463451569692, \"kinv\": 0.00847457627118644}, {\"k\": 119, \"train_error\": 0.18860637038320482, \"test_error\": 0.2045251090126772, \"kinv\": 0.008403361344537815}, {\"k\": 120, \"train_error\": 0.18864010595647196, \"test_error\": 0.20449599083619702, \"kinv\": 0.008333333333333333}, {\"k\": 121, \"train_error\": 0.18868393399789837, \"test_error\": 0.20460225497713783, \"kinv\": 0.008264462809917356}, {\"k\": 122, \"train_error\": 0.18864078080108163, \"test_error\": 0.20467860965579404, \"kinv\": 0.00819672131147541}, {\"k\": 123, \"train_error\": 0.18875024446120747, \"test_error\": 0.20471181515938872, \"kinv\": 0.008130081300813009}, {\"k\": 124, \"train_error\": 0.18872976942689282, \"test_error\": 0.20460591952111742, \"kinv\": 0.008064516129032258}, {\"k\": 125, \"train_error\": 0.18877319587628866, \"test_error\": 0.20452920962199314, \"kinv\": 0.008}, {\"k\": 126, \"train_error\": 0.18882445589919816, \"test_error\": 0.20467190312551134, \"kinv\": 0.007936507936507936}, {\"k\": 127, \"train_error\": 0.18883939443136616, \"test_error\": 0.20467029250209703, \"kinv\": 0.007874015748031496}, {\"k\": 128, \"train_error\": 0.18872154209621994, \"test_error\": 0.20480294243986255, \"kinv\": 0.0078125}, {\"k\": 129, \"train_error\": 0.18873371693438823, \"test_error\": 0.20494685527051867, \"kinv\": 0.007751937984496124}, {\"k\": 130, \"train_error\": 0.18868127147766323, \"test_error\": 0.20490351572825796, \"kinv\": 0.007692307692307693}, {\"k\": 131, \"train_error\": 0.18866569607303063, \"test_error\": 0.20467721203536107, \"kinv\": 0.007633587786259542}, {\"k\": 132, \"train_error\": 0.188604797979798, \"test_error\": 0.2045519629282516, \"kinv\": 0.007575757575757576}, {\"k\": 133, \"train_error\": 0.18860618039945226, \"test_error\": 0.20464821848435522, \"kinv\": 0.007518796992481203}, {\"k\": 134, \"train_error\": 0.18860914499666614, \"test_error\": 0.2046596912345489, \"kinv\": 0.007462686567164179}, {\"k\": 135, \"train_error\": 0.18868365788468883, \"test_error\": 0.20470281277841415, \"kinv\": 0.007407407407407408}, {\"k\": 136, \"train_error\": 0.18864021123913483, \"test_error\": 0.2047579341014756, \"kinv\": 0.007352941176470588}, {\"k\": 137, \"train_error\": 0.18872124815009905, \"test_error\": 0.20508816815912911, \"kinv\": 0.0072992700729927005}, {\"k\": 138, \"train_error\": 0.18871862393545494, \"test_error\": 0.20506499327655758, \"kinv\": 0.007246376811594203}, {\"k\": 139, \"train_error\": 0.18886591757521817, \"test_error\": 0.20499888748794778, \"kinv\": 0.007194244604316547}, {\"k\": 140, \"train_error\": 0.18893286696121747, \"test_error\": 0.2050564555719195, \"kinv\": 0.007142857142857143}, {\"k\": 141, \"train_error\": 0.18892727449976848, \"test_error\": 0.20478418756549926, \"kinv\": 0.0070921985815602835}, {\"k\": 142, \"train_error\": 0.18900041140312665, \"test_error\": 0.2048061565267896, \"kinv\": 0.007042253521126761}, {\"k\": 143, \"train_error\": 0.18901845577103307, \"test_error\": 0.20500805036887512, \"kinv\": 0.006993006993006993}, {\"k\": 144, \"train_error\": 0.18901238545246277, \"test_error\": 0.2051057178312333, \"kinv\": 0.006944444444444444}, {\"k\": 145, \"train_error\": 0.1890582414978078, \"test_error\": 0.20506576608602914, \"kinv\": 0.006896551724137931}, {\"k\": 146, \"train_error\": 0.18902991573694863, \"test_error\": 0.20513816315962907, \"kinv\": 0.00684931506849315}, {\"k\": 147, \"train_error\": 0.1890721065058326, \"test_error\": 0.20511606704537486, \"kinv\": 0.006802721088435374}, {\"k\": 148, \"train_error\": 0.1890977640011145, \"test_error\": 0.2051929506826414, \"kinv\": 0.006756756756756757}, {\"k\": 149, \"train_error\": 0.18906541894416387, \"test_error\": 0.20533799211236423, \"kinv\": 0.006711409395973154}]}}, {\"mode\": \"vega-lite\"});\n",
       "</script>"
      ],
      "text/plain": [
       "alt.LayerChart(...)"
      ]
     },
     "execution_count": 371,
     "metadata": {},
     "output_type": "execute_result"
    }
   ],
   "source": [
    "# plot for mean squared error for tops\n",
    "ctrain+ctest"
   ]
  },
  {
   "cell_type": "code",
   "execution_count": 372,
   "id": "a2ead73a",
   "metadata": {},
   "outputs": [],
   "source": [
    "df_bottoms = df_clean[['waist','height_inches','fit']].copy()"
   ]
  },
  {
   "cell_type": "code",
   "execution_count": 373,
   "id": "88640028",
   "metadata": {},
   "outputs": [],
   "source": [
    "Z = df_bottoms"
   ]
  },
  {
   "cell_type": "code",
   "execution_count": 374,
   "id": "82a49260",
   "metadata": {},
   "outputs": [
    {
     "data": {
      "text/plain": [
       "StandardScaler()"
      ]
     },
     "execution_count": 374,
     "metadata": {},
     "output_type": "execute_result"
    }
   ],
   "source": [
    "scaler.fit(Z)"
   ]
  },
  {
   "cell_type": "code",
   "execution_count": 375,
   "id": "e2afaa37",
   "metadata": {},
   "outputs": [],
   "source": [
    "Z_scaled = scaler.transform(Z)"
   ]
  },
  {
   "cell_type": "code",
   "execution_count": 376,
   "id": "49697bce",
   "metadata": {},
   "outputs": [],
   "source": [
    "Z_scaled_train, Z_scaled_test, y_train, y_test = train_test_split(Z_scaled,y,test_size=0.2)"
   ]
  },
  {
   "cell_type": "code",
   "execution_count": 377,
   "id": "c9ef656f",
   "metadata": {},
   "outputs": [
    {
     "data": {
      "text/plain": [
       "KNeighborsRegressor(n_neighbors=15)"
      ]
     },
     "execution_count": 377,
     "metadata": {},
     "output_type": "execute_result"
    }
   ],
   "source": [
    "reg.fit(Z_scaled,y)"
   ]
  },
  {
   "cell_type": "code",
   "execution_count": 378,
   "id": "779b7e3c",
   "metadata": {},
   "outputs": [
    {
     "data": {
      "text/plain": [
       "0.05345838106147384"
      ]
     },
     "execution_count": 378,
     "metadata": {},
     "output_type": "execute_result"
    }
   ],
   "source": [
    "mean_squared_error(reg.predict(Z_scaled_test),y_test)"
   ]
  },
  {
   "cell_type": "code",
   "execution_count": 379,
   "id": "6cadd494",
   "metadata": {},
   "outputs": [
    {
     "data": {
      "text/plain": [
       "0.05175663421153112"
      ]
     },
     "execution_count": 379,
     "metadata": {},
     "output_type": "execute_result"
    }
   ],
   "source": [
    "mean_squared_error(reg.predict(Z_scaled_train),y_train)"
   ]
  },
  {
   "cell_type": "code",
   "execution_count": 380,
   "id": "13f3e191",
   "metadata": {},
   "outputs": [],
   "source": [
    "def get_scores_b(k):\n",
    "    reg = KNeighborsRegressor(n_neighbors=k)\n",
    "    reg.fit(Z_scaled_train, y_train)\n",
    "    train_error_b = mean_absolute_error(reg.predict(Z_scaled_train), y_train)\n",
    "    test_error_b = mean_absolute_error(reg.predict(Z_scaled_test), y_test)\n",
    "    return (train_error_b, test_error_b)\n",
    "\n",
    "df_scores_b = pd.DataFrame({\"k\":range(1,150),\"train_error_b\":np.nan,\"test_error_b\":np.nan})\n",
    "\n",
    "for i in df_scores.index:\n",
    "    df_scores_b.loc[i,[\"train_error_b\",\"test_error_b\"]] = get_scores_b(df_scores_b.loc[i,\"k\"])\n",
    "\n",
    "df_scores_b[\"kinv\"] = 1/df_scores_b.k"
   ]
  },
  {
   "cell_type": "code",
   "execution_count": 381,
   "id": "3542787d",
   "metadata": {},
   "outputs": [],
   "source": [
    "ctrain_b = alt.Chart(df_scores).mark_line(color=\"#FF0000\").encode(\n",
    "    x = \"kinv\",\n",
    "    y = \"train_error\"\n",
    ")"
   ]
  },
  {
   "cell_type": "code",
   "execution_count": 382,
   "id": "44fbdc2f",
   "metadata": {},
   "outputs": [],
   "source": [
    "ctest_b = alt.Chart(df_scores).mark_line(color=\"#045FB4\").encode(\n",
    "    x = alt.X(\"kinv\",title='k-inverse'),\n",
    "    y = \"test_error\"\n",
    ")"
   ]
  },
  {
   "cell_type": "code",
   "execution_count": 383,
   "id": "e33e6d76",
   "metadata": {},
   "outputs": [
    {
     "data": {
      "text/html": [
       "\n",
       "<div id=\"altair-viz-1efbe700bcdb4dd2a03e9fa83f8b10c0\"></div>\n",
       "<script type=\"text/javascript\">\n",
       "  var VEGA_DEBUG = (typeof VEGA_DEBUG == \"undefined\") ? {} : VEGA_DEBUG;\n",
       "  (function(spec, embedOpt){\n",
       "    let outputDiv = document.currentScript.previousElementSibling;\n",
       "    if (outputDiv.id !== \"altair-viz-1efbe700bcdb4dd2a03e9fa83f8b10c0\") {\n",
       "      outputDiv = document.getElementById(\"altair-viz-1efbe700bcdb4dd2a03e9fa83f8b10c0\");\n",
       "    }\n",
       "    const paths = {\n",
       "      \"vega\": \"https://cdn.jsdelivr.net/npm//vega@5?noext\",\n",
       "      \"vega-lib\": \"https://cdn.jsdelivr.net/npm//vega-lib?noext\",\n",
       "      \"vega-lite\": \"https://cdn.jsdelivr.net/npm//vega-lite@4.17.0?noext\",\n",
       "      \"vega-embed\": \"https://cdn.jsdelivr.net/npm//vega-embed@6?noext\",\n",
       "    };\n",
       "\n",
       "    function maybeLoadScript(lib, version) {\n",
       "      var key = `${lib.replace(\"-\", \"\")}_version`;\n",
       "      return (VEGA_DEBUG[key] == version) ?\n",
       "        Promise.resolve(paths[lib]) :\n",
       "        new Promise(function(resolve, reject) {\n",
       "          var s = document.createElement('script');\n",
       "          document.getElementsByTagName(\"head\")[0].appendChild(s);\n",
       "          s.async = true;\n",
       "          s.onload = () => {\n",
       "            VEGA_DEBUG[key] = version;\n",
       "            return resolve(paths[lib]);\n",
       "          };\n",
       "          s.onerror = () => reject(`Error loading script: ${paths[lib]}`);\n",
       "          s.src = paths[lib];\n",
       "        });\n",
       "    }\n",
       "\n",
       "    function showError(err) {\n",
       "      outputDiv.innerHTML = `<div class=\"error\" style=\"color:red;\">${err}</div>`;\n",
       "      throw err;\n",
       "    }\n",
       "\n",
       "    function displayChart(vegaEmbed) {\n",
       "      vegaEmbed(outputDiv, spec, embedOpt)\n",
       "        .catch(err => showError(`Javascript Error: ${err.message}<br>This usually means there's a typo in your chart specification. See the javascript console for the full traceback.`));\n",
       "    }\n",
       "\n",
       "    if(typeof define === \"function\" && define.amd) {\n",
       "      requirejs.config({paths});\n",
       "      require([\"vega-embed\"], displayChart, err => showError(`Error loading script: ${err.message}`));\n",
       "    } else {\n",
       "      maybeLoadScript(\"vega\", \"5\")\n",
       "        .then(() => maybeLoadScript(\"vega-lite\", \"4.17.0\"))\n",
       "        .then(() => maybeLoadScript(\"vega-embed\", \"6\"))\n",
       "        .catch(showError)\n",
       "        .then(() => displayChart(vegaEmbed));\n",
       "    }\n",
       "  })({\"config\": {\"view\": {\"continuousWidth\": 400, \"continuousHeight\": 300}}, \"layer\": [{\"mark\": {\"type\": \"line\", \"color\": \"#FF0000\"}, \"encoding\": {\"x\": {\"field\": \"kinv\", \"type\": \"quantitative\"}, \"y\": {\"field\": \"train_error\", \"type\": \"quantitative\"}}}, {\"mark\": {\"type\": \"line\", \"color\": \"#045FB4\"}, \"encoding\": {\"x\": {\"field\": \"kinv\", \"title\": \"k-inverse\", \"type\": \"quantitative\"}, \"y\": {\"field\": \"test_error\", \"type\": \"quantitative\"}}}], \"data\": {\"name\": \"data-31c4dba1eec051d9fc2c551b30145aeb\"}, \"$schema\": \"https://vega.github.io/schema/vega-lite/v4.17.0.json\", \"datasets\": {\"data-31c4dba1eec051d9fc2c551b30145aeb\": [{\"k\": 1, \"train_error\": 0.04768041237113402, \"test_error\": 0.24656357388316152, \"kinv\": 1.0}, {\"k\": 2, \"train_error\": 0.12564432989690721, \"test_error\": 0.24097938144329897, \"kinv\": 0.5}, {\"k\": 3, \"train_error\": 0.14740836197021764, \"test_error\": 0.22995418098510878, \"kinv\": 0.3333333333333333}, {\"k\": 4, \"train_error\": 0.15780713058419243, \"test_error\": 0.23067010309278352, \"kinv\": 0.25}, {\"k\": 5, \"train_error\": 0.16494845360824742, \"test_error\": 0.22542955326460484, \"kinv\": 0.2}, {\"k\": 6, \"train_error\": 0.16913659793814434, \"test_error\": 0.22236540664375715, \"kinv\": 0.16666666666666666}, {\"k\": 7, \"train_error\": 0.1718213058419244, \"test_error\": 0.22042218949435446, \"kinv\": 0.14285714285714285}, {\"k\": 8, \"train_error\": 0.17525773195876287, \"test_error\": 0.21875, \"kinv\": 0.125}, {\"k\": 9, \"train_error\": 0.17647479954180986, \"test_error\": 0.21964490263459335, \"kinv\": 0.1111111111111111}, {\"k\": 10, \"train_error\": 0.17880154639175258, \"test_error\": 0.21443298969072164, \"kinv\": 0.1}, {\"k\": 11, \"train_error\": 0.17951421430802872, \"test_error\": 0.21376132458606684, \"kinv\": 0.09090909090909091}, {\"k\": 12, \"train_error\": 0.17994702176403207, \"test_error\": 0.2132016036655212, \"kinv\": 0.08333333333333333}, {\"k\": 13, \"train_error\": 0.18049497753106003, \"test_error\": 0.21385144065556438, \"kinv\": 0.07692307692307693}, {\"k\": 14, \"train_error\": 0.18139420716740307, \"test_error\": 0.2142243495336279, \"kinv\": 0.07142857142857142}, {\"k\": 15, \"train_error\": 0.18185853379152347, \"test_error\": 0.21374570446735397, \"kinv\": 0.06666666666666667}, {\"k\": 16, \"train_error\": 0.18238563144329897, \"test_error\": 0.21348797250859106, \"kinv\": 0.0625}, {\"k\": 17, \"train_error\": 0.18281281584798867, \"test_error\": 0.21300788356579745, \"kinv\": 0.058823529411764705}, {\"k\": 18, \"train_error\": 0.18248854524627722, \"test_error\": 0.21191294387170675, \"kinv\": 0.05555555555555555}, {\"k\": 19, \"train_error\": 0.1825375293904865, \"test_error\": 0.21206366431542775, \"kinv\": 0.05263157894736842}, {\"k\": 20, \"train_error\": 0.18349441580756015, \"test_error\": 0.21198453608247422, \"kinv\": 0.05}, {\"k\": 21, \"train_error\": 0.18394084437898872, \"test_error\": 0.21191294387170675, \"kinv\": 0.047619047619047616}, {\"k\": 22, \"train_error\": 0.18423930021868165, \"test_error\": 0.21098875351452673, \"kinv\": 0.045454545454545456}, {\"k\": 23, \"train_error\": 0.18372740176303604, \"test_error\": 0.21085462423427465, \"kinv\": 0.043478260869565216}, {\"k\": 24, \"train_error\": 0.18400093069873996, \"test_error\": 0.2105884879725086, \"kinv\": 0.041666666666666664}, {\"k\": 25, \"train_error\": 0.18443298969072164, \"test_error\": 0.2097594501718213, \"kinv\": 0.04}, {\"k\": 26, \"train_error\": 0.1848978984932593, \"test_error\": 0.21038197197991013, \"kinv\": 0.038461538461538464}, {\"k\": 27, \"train_error\": 0.18438176148657245, \"test_error\": 0.2094628993254423, \"kinv\": 0.037037037037037035}, {\"k\": 28, \"train_error\": 0.18443943298969073, \"test_error\": 0.20916175748649973, \"kinv\": 0.03571428571428571}, {\"k\": 29, \"train_error\": 0.18453015760161157, \"test_error\": 0.2086147647825572, \"kinv\": 0.034482758620689655}, {\"k\": 30, \"train_error\": 0.18477233676975943, \"test_error\": 0.20804696449026347, \"kinv\": 0.03333333333333333}, {\"k\": 31, \"train_error\": 0.18498503491852344, \"test_error\": 0.20862432102871076, \"kinv\": 0.03225806451612903}, {\"k\": 32, \"train_error\": 0.18486898625429554, \"test_error\": 0.20838702749140894, \"kinv\": 0.03125}, {\"k\": 33, \"train_error\": 0.18494220556076224, \"test_error\": 0.20805998125585756, \"kinv\": 0.030303030303030304}, {\"k\": 34, \"train_error\": 0.18513745704467355, \"test_error\": 0.20717101273499092, \"kinv\": 0.029411764705882353}, {\"k\": 35, \"train_error\": 0.18535223367697595, \"test_error\": 0.20689739813451152, \"kinv\": 0.02857142857142857}, {\"k\": 36, \"train_error\": 0.18534030164184803, \"test_error\": 0.20804696449026344, \"kinv\": 0.027777777777777776}, {\"k\": 37, \"train_error\": 0.18556120553543232, \"test_error\": 0.20822884740410513, \"kinv\": 0.02702702702702703}, {\"k\": 38, \"train_error\": 0.18591178332429012, \"test_error\": 0.20810725266775185, \"kinv\": 0.02631578947368421}, {\"k\": 39, \"train_error\": 0.186018591946427, \"test_error\": 0.20907128381355186, \"kinv\": 0.02564102564102564}, {\"k\": 40, \"train_error\": 0.18607710481099657, \"test_error\": 0.20863402061855668, \"kinv\": 0.025}, {\"k\": 41, \"train_error\": 0.18611704802615034, \"test_error\": 0.20819713351772692, \"kinv\": 0.024390243902439025}, {\"k\": 42, \"train_error\": 0.18631872852233677, \"test_error\": 0.20790378006872853, \"kinv\": 0.023809523809523808}, {\"k\": 43, \"train_error\": 0.1865360025573404, \"test_error\": 0.20734436186366179, \"kinv\": 0.023255813953488372}, {\"k\": 44, \"train_error\": 0.18645540456107468, \"test_error\": 0.20690799750078104, \"kinv\": 0.022727272727272728}, {\"k\": 45, \"train_error\": 0.18676498663612062, \"test_error\": 0.2071783123329515, \"kinv\": 0.022222222222222223}, {\"k\": 46, \"train_error\": 0.18680431047362916, \"test_error\": 0.2069139399372479, \"kinv\": 0.021739130434782608}, {\"k\": 47, \"train_error\": 0.18665003290195217, \"test_error\": 0.20713606785113695, \"kinv\": 0.02127659574468085}, {\"k\": 48, \"train_error\": 0.18676170532646047, \"test_error\": 0.20713416380297825, \"kinv\": 0.020833333333333332}, {\"k\": 49, \"train_error\": 0.186776772564696, \"test_error\": 0.20686934567641488, \"kinv\": 0.02040816326530612}, {\"k\": 50, \"train_error\": 0.18685996563573884, \"test_error\": 0.20675257731958763, \"kinv\": 0.02}, {\"k\": 51, \"train_error\": 0.18668721784246345, \"test_error\": 0.20697729263526715, \"kinv\": 0.0196078431372549}, {\"k\": 52, \"train_error\": 0.1869217552207243, \"test_error\": 0.2064664287602432, \"kinv\": 0.019230769230769232}, {\"k\": 53, \"train_error\": 0.18712718018543736, \"test_error\": 0.20618556701030927, \"kinv\": 0.018867924528301886}, {\"k\": 54, \"train_error\": 0.187094310805651, \"test_error\": 0.20597874506809216, \"kinv\": 0.018518518518518517}, {\"k\": 55, \"train_error\": 0.18709778194314278, \"test_error\": 0.20592002499218995, \"kinv\": 0.01818181818181818}, {\"k\": 56, \"train_error\": 0.1870704467353952, \"test_error\": 0.2061548846342661, \"kinv\": 0.017857142857142856}, {\"k\": 57, \"train_error\": 0.186893350214023, \"test_error\": 0.20636643154277445, \"kinv\": 0.017543859649122806}, {\"k\": 58, \"train_error\": 0.18697046451001303, \"test_error\": 0.20596338428723784, \"kinv\": 0.017241379310344827}, {\"k\": 59, \"train_error\": 0.1870122022249403, \"test_error\": 0.20566136641621524, \"kinv\": 0.01694915254237288}, {\"k\": 60, \"train_error\": 0.18695231958762884, \"test_error\": 0.2054982817869416, \"kinv\": 0.016666666666666666}, {\"k\": 61, \"train_error\": 0.18694721424145117, \"test_error\": 0.20549546504422286, \"kinv\": 0.01639344262295082}, {\"k\": 62, \"train_error\": 0.18699077153308943, \"test_error\": 0.2053818867087906, \"kinv\": 0.016129032258064516}, {\"k\": 63, \"train_error\": 0.18709771995854468, \"test_error\": 0.20589919816723937, \"kinv\": 0.015873015873015872}, {\"k\": 64, \"train_error\": 0.18706709085051546, \"test_error\": 0.20558150773195877, \"kinv\": 0.015625}, {\"k\": 65, \"train_error\": 0.18735791699709226, \"test_error\": 0.20543219666931006, \"kinv\": 0.015384615384615385}, {\"k\": 66, \"train_error\": 0.1874121368322399, \"test_error\": 0.20533947724669374, \"kinv\": 0.015151515151515152}, {\"k\": 67, \"train_error\": 0.18736856952351644, \"test_error\": 0.2052367030825255, \"kinv\": 0.014925373134328358}, {\"k\": 68, \"train_error\": 0.1874968415201132, \"test_error\": 0.20496007681423084, \"kinv\": 0.014705882352941176}, {\"k\": 69, \"train_error\": 0.18754046516260772, \"test_error\": 0.20446735395189003, \"kinv\": 0.014492753623188406}, {\"k\": 70, \"train_error\": 0.18737420225822288, \"test_error\": 0.2043568973981345, \"kinv\": 0.014285714285714285}, {\"k\": 71, \"train_error\": 0.1873305987125502, \"test_error\": 0.20462465514737913, \"kinv\": 0.014084507042253521}, {\"k\": 72, \"train_error\": 0.18745525486827036, \"test_error\": 0.20424064528445973, \"kinv\": 0.013888888888888888}, {\"k\": 73, \"train_error\": 0.18743821494139248, \"test_error\": 0.20431436237819514, \"kinv\": 0.0136986301369863}, {\"k\": 74, \"train_error\": 0.18740131884461783, \"test_error\": 0.2037707810903687, \"kinv\": 0.013513513513513514}, {\"k\": 75, \"train_error\": 0.1875229095074456, \"test_error\": 0.20392898052691869, \"kinv\": 0.013333333333333334}, {\"k\": 76, \"train_error\": 0.1874180457587267, \"test_error\": 0.20380041598842466, \"kinv\": 0.013157894736842105}, {\"k\": 77, \"train_error\": 0.18738284910965325, \"test_error\": 0.20365287633328868, \"kinv\": 0.012987012987012988}, {\"k\": 78, \"train_error\": 0.1874036258701207, \"test_error\": 0.20368534672658384, \"kinv\": 0.01282051282051282}, {\"k\": 79, \"train_error\": 0.18756796728870329, \"test_error\": 0.20382574274653098, \"kinv\": 0.012658227848101266}, {\"k\": 80, \"train_error\": 0.18766913659793813, \"test_error\": 0.20383376288659794, \"kinv\": 0.0125}, {\"k\": 81, \"train_error\": 0.18773068601247295, \"test_error\": 0.20396886003987952, \"kinv\": 0.012345679012345678}, {\"k\": 82, \"train_error\": 0.18769382281451683, \"test_error\": 0.2038282625094292, \"kinv\": 0.012195121951219513}, {\"k\": 83, \"train_error\": 0.18765267254585352, \"test_error\": 0.20355649401730636, \"kinv\": 0.012048192771084338}, {\"k\": 84, \"train_error\": 0.1876840942562592, \"test_error\": 0.20383325151366388, \"kinv\": 0.011904761904761904}, {\"k\": 85, \"train_error\": 0.1876137052759248, \"test_error\": 0.20375985445724681, \"kinv\": 0.011764705882352941}, {\"k\": 86, \"train_error\": 0.1876148805242548, \"test_error\": 0.2035582993686566, \"kinv\": 0.011627906976744186}, {\"k\": 87, \"train_error\": 0.1876234348461508, \"test_error\": 0.20356874827191215, \"kinv\": 0.011494252873563218}, {\"k\": 88, \"train_error\": 0.1876415573258357, \"test_error\": 0.2038620743517651, \"kinv\": 0.011363636363636364}, {\"k\": 89, \"train_error\": 0.1878257847793351, \"test_error\": 0.20375304065794045, \"kinv\": 0.011235955056179775}, {\"k\": 90, \"train_error\": 0.18788421153111876, \"test_error\": 0.20389461626575028, \"kinv\": 0.011111111111111112}, {\"k\": 91, \"train_error\": 0.18785402741588306, \"test_error\": 0.2036743325403119, \"kinv\": 0.01098901098901099}, {\"k\": 92, \"train_error\": 0.18779881966233378, \"test_error\": 0.20330942776034663, \"kinv\": 0.010869565217391304}, {\"k\": 93, \"train_error\": 0.18781639138306913, \"test_error\": 0.203645198241141, \"kinv\": 0.010752688172043012}, {\"k\": 94, \"train_error\": 0.1878564378153104, \"test_error\": 0.20335234335014987, \"kinv\": 0.010638297872340425}, {\"k\": 95, \"train_error\": 0.18784590341833965, \"test_error\": 0.20370772291553627, \"kinv\": 0.010526315789473684}, {\"k\": 96, \"train_error\": 0.18801904352806417, \"test_error\": 0.2035545532646048, \"kinv\": 0.010416666666666666}, {\"k\": 97, \"train_error\": 0.18804469125305556, \"test_error\": 0.203935947851348, \"kinv\": 0.010309278350515464}, {\"k\": 98, \"train_error\": 0.18815967108492884, \"test_error\": 0.2039326039694228, \"kinv\": 0.01020408163265306}, {\"k\": 99, \"train_error\": 0.18805538199868096, \"test_error\": 0.20372105939116247, \"kinv\": 0.010101010101010102}, {\"k\": 100, \"train_error\": 0.18802835051546393, \"test_error\": 0.2036254295532646, \"kinv\": 0.01}, {\"k\": 101, \"train_error\": 0.18805501684189038, \"test_error\": 0.2038719335851111, \"kinv\": 0.009900990099009901}, {\"k\": 102, \"train_error\": 0.18811485075129705, \"test_error\": 0.20406306852637965, \"kinv\": 0.00980392156862745}, {\"k\": 103, \"train_error\": 0.18816935241717547, \"test_error\": 0.2040920161478664, \"kinv\": 0.009708737864077669}, {\"k\": 104, \"train_error\": 0.1881174828178694, \"test_error\": 0.2042443166798837, \"kinv\": 0.009615384615384616}, {\"k\": 105, \"train_error\": 0.18814228440517097, \"test_error\": 0.204189167075765, \"kinv\": 0.009523809523809525}, {\"k\": 106, \"train_error\": 0.18821727290410425, \"test_error\": 0.2041836867016793, \"kinv\": 0.009433962264150943}, {\"k\": 107, \"train_error\": 0.18815035167164468, \"test_error\": 0.2040337861707936, \"kinv\": 0.009345794392523364}, {\"k\": 108, \"train_error\": 0.18806677166857577, \"test_error\": 0.20426053200967292, \"kinv\": 0.009259259259259259}, {\"k\": 109, \"train_error\": 0.18821920615404017, \"test_error\": 0.20388410731738074, \"kinv\": 0.009174311926605505}, {\"k\": 110, \"train_error\": 0.18817166510465477, \"test_error\": 0.20416276163698846, \"kinv\": 0.00909090909090909}, {\"k\": 111, \"train_error\": 0.1883126683384415, \"test_error\": 0.20411906752112938, \"kinv\": 0.009009009009009009}, {\"k\": 112, \"train_error\": 0.18822870643102602, \"test_error\": 0.20402245949926365, \"kinv\": 0.008928571428571428}, {\"k\": 113, \"train_error\": 0.18821465498890005, \"test_error\": 0.20412523188273576, \"kinv\": 0.008849557522123894}, {\"k\": 114, \"train_error\": 0.18835533851811662, \"test_error\": 0.20427141737505278, \"kinv\": 0.008771929824561403}, {\"k\": 115, \"train_error\": 0.18827506349917825, \"test_error\": 0.20448976542656508, \"kinv\": 0.008695652173913044}, {\"k\": 116, \"train_error\": 0.188340591302287, \"test_error\": 0.20454141485958052, \"kinv\": 0.008620689655172414}, {\"k\": 117, \"train_error\": 0.18847475548506473, \"test_error\": 0.2044600111610421, \"kinv\": 0.008547008547008548}, {\"k\": 118, \"train_error\": 0.18851927893296058, \"test_error\": 0.20447463451569692, \"kinv\": 0.00847457627118644}, {\"k\": 119, \"train_error\": 0.18860637038320482, \"test_error\": 0.2045251090126772, \"kinv\": 0.008403361344537815}, {\"k\": 120, \"train_error\": 0.18864010595647196, \"test_error\": 0.20449599083619702, \"kinv\": 0.008333333333333333}, {\"k\": 121, \"train_error\": 0.18868393399789837, \"test_error\": 0.20460225497713783, \"kinv\": 0.008264462809917356}, {\"k\": 122, \"train_error\": 0.18864078080108163, \"test_error\": 0.20467860965579404, \"kinv\": 0.00819672131147541}, {\"k\": 123, \"train_error\": 0.18875024446120747, \"test_error\": 0.20471181515938872, \"kinv\": 0.008130081300813009}, {\"k\": 124, \"train_error\": 0.18872976942689282, \"test_error\": 0.20460591952111742, \"kinv\": 0.008064516129032258}, {\"k\": 125, \"train_error\": 0.18877319587628866, \"test_error\": 0.20452920962199314, \"kinv\": 0.008}, {\"k\": 126, \"train_error\": 0.18882445589919816, \"test_error\": 0.20467190312551134, \"kinv\": 0.007936507936507936}, {\"k\": 127, \"train_error\": 0.18883939443136616, \"test_error\": 0.20467029250209703, \"kinv\": 0.007874015748031496}, {\"k\": 128, \"train_error\": 0.18872154209621994, \"test_error\": 0.20480294243986255, \"kinv\": 0.0078125}, {\"k\": 129, \"train_error\": 0.18873371693438823, \"test_error\": 0.20494685527051867, \"kinv\": 0.007751937984496124}, {\"k\": 130, \"train_error\": 0.18868127147766323, \"test_error\": 0.20490351572825796, \"kinv\": 0.007692307692307693}, {\"k\": 131, \"train_error\": 0.18866569607303063, \"test_error\": 0.20467721203536107, \"kinv\": 0.007633587786259542}, {\"k\": 132, \"train_error\": 0.188604797979798, \"test_error\": 0.2045519629282516, \"kinv\": 0.007575757575757576}, {\"k\": 133, \"train_error\": 0.18860618039945226, \"test_error\": 0.20464821848435522, \"kinv\": 0.007518796992481203}, {\"k\": 134, \"train_error\": 0.18860914499666614, \"test_error\": 0.2046596912345489, \"kinv\": 0.007462686567164179}, {\"k\": 135, \"train_error\": 0.18868365788468883, \"test_error\": 0.20470281277841415, \"kinv\": 0.007407407407407408}, {\"k\": 136, \"train_error\": 0.18864021123913483, \"test_error\": 0.2047579341014756, \"kinv\": 0.007352941176470588}, {\"k\": 137, \"train_error\": 0.18872124815009905, \"test_error\": 0.20508816815912911, \"kinv\": 0.0072992700729927005}, {\"k\": 138, \"train_error\": 0.18871862393545494, \"test_error\": 0.20506499327655758, \"kinv\": 0.007246376811594203}, {\"k\": 139, \"train_error\": 0.18886591757521817, \"test_error\": 0.20499888748794778, \"kinv\": 0.007194244604316547}, {\"k\": 140, \"train_error\": 0.18893286696121747, \"test_error\": 0.2050564555719195, \"kinv\": 0.007142857142857143}, {\"k\": 141, \"train_error\": 0.18892727449976848, \"test_error\": 0.20478418756549926, \"kinv\": 0.0070921985815602835}, {\"k\": 142, \"train_error\": 0.18900041140312665, \"test_error\": 0.2048061565267896, \"kinv\": 0.007042253521126761}, {\"k\": 143, \"train_error\": 0.18901845577103307, \"test_error\": 0.20500805036887512, \"kinv\": 0.006993006993006993}, {\"k\": 144, \"train_error\": 0.18901238545246277, \"test_error\": 0.2051057178312333, \"kinv\": 0.006944444444444444}, {\"k\": 145, \"train_error\": 0.1890582414978078, \"test_error\": 0.20506576608602914, \"kinv\": 0.006896551724137931}, {\"k\": 146, \"train_error\": 0.18902991573694863, \"test_error\": 0.20513816315962907, \"kinv\": 0.00684931506849315}, {\"k\": 147, \"train_error\": 0.1890721065058326, \"test_error\": 0.20511606704537486, \"kinv\": 0.006802721088435374}, {\"k\": 148, \"train_error\": 0.1890977640011145, \"test_error\": 0.2051929506826414, \"kinv\": 0.006756756756756757}, {\"k\": 149, \"train_error\": 0.18906541894416387, \"test_error\": 0.20533799211236423, \"kinv\": 0.006711409395973154}]}}, {\"mode\": \"vega-lite\"});\n",
       "</script>"
      ],
      "text/plain": [
       "alt.LayerChart(...)"
      ]
     },
     "execution_count": 383,
     "metadata": {},
     "output_type": "execute_result"
    }
   ],
   "source": [
    "ctrain_b+ctest_b"
   ]
  },
  {
   "cell_type": "code",
   "execution_count": 384,
   "id": "1418c177",
   "metadata": {},
   "outputs": [],
   "source": [
    "df_ow = df_clean[['waist','height_inches','cup size', 'bra size','fit']].copy()"
   ]
  },
  {
   "cell_type": "code",
   "execution_count": null,
   "id": "2c42e00b",
   "metadata": {
    "scrolled": true
   },
   "outputs": [],
   "source": []
  },
  {
   "cell_type": "code",
   "execution_count": null,
   "id": "36677d88",
   "metadata": {},
   "outputs": [],
   "source": []
  }
 ],
 "metadata": {
  "kernelspec": {
   "display_name": "Python 3 (ipykernel)",
   "language": "python",
   "name": "python3"
  },
  "language_info": {
   "codemirror_mode": {
    "name": "ipython",
    "version": 3
   },
   "file_extension": ".py",
   "mimetype": "text/x-python",
   "name": "python",
   "nbconvert_exporter": "python",
   "pygments_lexer": "ipython3",
   "version": "3.9.13"
  }
 },
 "nbformat": 4,
 "nbformat_minor": 5
}
